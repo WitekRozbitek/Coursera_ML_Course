{
 "cells": [
  {
   "cell_type": "code",
   "execution_count": 2,
   "metadata": {
    "collapsed": true
   },
   "outputs": [],
   "source": [
    "%matplotlib inline\n",
    "import pandas as pd\n",
    "import matplotlib.pyplot as plt\n",
    "import numpy as np\n",
    "\n",
    "import math\n",
    "from timeit import default_timer as timer"
   ]
  },
  {
   "cell_type": "code",
   "execution_count": 68,
   "metadata": {
    "collapsed": true
   },
   "outputs": [],
   "source": []
  },
  {
   "cell_type": "code",
   "execution_count": 4,
   "metadata": {
    "collapsed": true
   },
   "outputs": [],
   "source": [
    "dtype_dict = {'bathrooms':float, 'waterfront':int, 'sqft_above':int, 'sqft_living15':float, 'grade':int, \n",
    "              'yr_renovated':int, 'price':float, 'bedrooms':float, 'zipcode':str, 'long':float, 'sqft_lot15':float, \n",
    "              'sqft_living':float, 'floors':float, 'condition':int, 'lat':float, 'date':str, 'sqft_basement':int, \n",
    "              'yr_built':int, 'id':str, 'sqft_lot':int, 'view':int}\n",
    "\n",
    "#sales = pd.read_csv(\"C:/Users/Witek/PycharmProjects/test/Coursera/House price prediction/kc_house_data_small.csv\", \n",
    "#                    dtype=dtype_dict)\n",
    "\n",
    "#train, test, validation = np.split(sales.sample(frac=1), [int(.64*len(sales)), int(.8*len(sales))])"
   ]
  },
  {
   "cell_type": "code",
   "execution_count": 5,
   "metadata": {},
   "outputs": [],
   "source": [
    "train = pd.read_csv(\"./kc_house_data_small_train.csv\", dtype=dtype_dict)\n",
    "\n",
    "test = pd.read_csv(\"./kc_house_data_small_test.csv\", dtype=dtype_dict)\n",
    "\n",
    "validation = pd.read_csv(\"./kc_house_data_validation.csv\", dtype=dtype_dict)\n"
   ]
  },
  {
   "cell_type": "code",
   "execution_count": 156,
   "metadata": {
    "collapsed": true
   },
   "outputs": [],
   "source": [
    "feature_list = ['bedrooms',  \n",
    "                'bathrooms',  \n",
    "                'sqft_living',  \n",
    "                'sqft_lot',  \n",
    "                'floors',\n",
    "                'waterfront',  \n",
    "                'view',  \n",
    "                'condition',  \n",
    "                'grade',  \n",
    "                'sqft_above',  \n",
    "                'sqft_basement',\n",
    "                'yr_built',  \n",
    "                'yr_renovated',  \n",
    "                'lat',  \n",
    "                'long',  \n",
    "                'sqft_living15',  \n",
    "                'sqft_lot15']"
   ]
  },
  {
   "cell_type": "code",
   "execution_count": 157,
   "metadata": {
    "collapsed": true
   },
   "outputs": [],
   "source": [
    "def normalize_fn(x):\n",
    "    return math.sqrt(sum(x ** 2))"
   ]
  },
  {
   "cell_type": "code",
   "execution_count": 158,
   "metadata": {
    "collapsed": true
   },
   "outputs": [],
   "source": [
    "train_np = train[feature_list].as_matrix()\n",
    "test_np = test[feature_list].as_matrix()\n",
    "validation_np = validation[feature_list].as_matrix()\n",
    "\n",
    "train_out = train[\"price\"].as_matrix()\n",
    "test_out = test[\"price\"].as_matrix()\n",
    "validation_out = validation[\"price\"].as_matrix()"
   ]
  },
  {
   "cell_type": "code",
   "execution_count": 150,
   "metadata": {
    "collapsed": true
   },
   "outputs": [],
   "source": [
    "def get__normalizator(data):\n",
    "    \n",
    "    #normalizator = np.apply_along_axis(normalize_fn, 0, data)\n",
    "    norms = np.linalg.norm(data, axis=0)\n",
    "    return norms"
   ]
  },
  {
   "cell_type": "code",
   "execution_count": 151,
   "metadata": {
    "collapsed": true
   },
   "outputs": [],
   "source": [
    "normalizator = get__normalizator(train_np)\n",
    "\n",
    "train_norm = train_np / normalizator\n",
    "test_norm = test_np / normalizator\n",
    "validation_norm = validation_np / normalizator"
   ]
  },
  {
   "cell_type": "code",
   "execution_count": 132,
   "metadata": {},
   "outputs": [
    {
     "data": {
      "text/plain": [
       "array([  2.57850732e+02,   1.65977596e+02,   1.67688695e+05,\n",
       "         3.11491224e+06,   1.17240138e+02,   6.32455532e+00,\n",
       "         5.87962584e+01,   2.57906960e+02,   5.75318173e+02,\n",
       "         1.45365513e+05,   3.90863965e+04,   1.46559338e+05,\n",
       "         2.99361461e+04,   3.53588887e+03,   9.08552952e+03,\n",
       "         1.55531640e+05,   2.46533053e+06])"
      ]
     },
     "execution_count": 132,
     "metadata": {},
     "output_type": "execute_result"
    }
   ],
   "source": [
    "normalizator"
   ]
  },
  {
   "cell_type": "code",
   "execution_count": 192,
   "metadata": {
    "collapsed": true
   },
   "outputs": [],
   "source": [
    "def compute_distances(train_matrix, query_vector):\n",
    "    diff = train_matrix - query_vector\n",
    "    \n",
    "    distances = np.sqrt(np.sum(diff**2, axis = 1))\n",
    "    return distances"
   ]
  },
  {
   "cell_type": "code",
   "execution_count": 193,
   "metadata": {
    "collapsed": true
   },
   "outputs": [],
   "source": [
    "def compute_k_nearest_neighbors(k, features_matrix, feature_vector):\n",
    "    distances = compute_distances(features_matrix, feature_vector)\n",
    "    return np.argsort(distances, axis = 0)[:k]"
   ]
  },
  {
   "cell_type": "code",
   "execution_count": 194,
   "metadata": {},
   "outputs": [
    {
     "data": {
      "text/plain": [
       "array([ 382, 1149, 4087, 3142], dtype=int64)"
      ]
     },
     "execution_count": 194,
     "metadata": {},
     "output_type": "execute_result"
    }
   ],
   "source": [
    "compute_k_nearest_neighbors(4, train_norm, test_norm[2])"
   ]
  },
  {
   "cell_type": "code",
   "execution_count": 195,
   "metadata": {
    "collapsed": true
   },
   "outputs": [],
   "source": [
    "def make_prediction(k, features_matrix, feature_vector, y_vector):\n",
    "    t = compute_k_nearest_neighbors(k, features_matrix, feature_vector)\n",
    "    \n",
    "    return np.mean(y_vector[t])\n",
    "    "
   ]
  },
  {
   "cell_type": "code",
   "execution_count": 196,
   "metadata": {},
   "outputs": [
    {
     "data": {
      "text/plain": [
       "413987.5"
      ]
     },
     "execution_count": 196,
     "metadata": {},
     "output_type": "execute_result"
    }
   ],
   "source": [
    "make_prediction(4, train_norm, test_norm[2], train_out)"
   ]
  },
  {
   "cell_type": "code",
   "execution_count": 197,
   "metadata": {
    "collapsed": true
   },
   "outputs": [],
   "source": [
    "def prediction_for_all(k, features_matrix, feature_vector, y_vector):\n",
    "    \n",
    "    output = []\n",
    "    \n",
    "    for item in feature_vector:\n",
    "        t = make_prediction(k, features_matrix, item, y_vector)\n",
    "        output.append(t)\n",
    "        \n",
    "    return output"
   ]
  },
  {
   "cell_type": "code",
   "execution_count": 198,
   "metadata": {
    "collapsed": true
   },
   "outputs": [],
   "source": [
    "def find_best_k(k_end, test_out):\n",
    "\n",
    "    output = pd.DataFrame(columns = [\"RSS\", \"time\"], index = range(1, k_end))\n",
    "\n",
    "    for i in range(1,k_end):\n",
    "        start = timer()\n",
    "\n",
    "        temp = prediction_for_all(i, train_norm, test_norm, train_out)\n",
    "        rss = np.sqrt(sum((temp - test_out)**2)) / sum(test_out)\n",
    "        \n",
    "        end = timer()\n",
    "        \n",
    "        output[\"RSS\"].loc[i] = rss\n",
    "        output[\"time\"].loc[i] = end - start\n",
    "    \n",
    "    return output"
   ]
  },
  {
   "cell_type": "code",
   "execution_count": 201,
   "metadata": {
    "collapsed": true
   },
   "outputs": [],
   "source": [
    "temp = find_best_k(16, test_out)"
   ]
  },
  {
   "cell_type": "code",
   "execution_count": 202,
   "metadata": {},
   "outputs": [
    {
     "data": {
      "text/plain": [
       "[<matplotlib.lines.Line2D at 0xc4896d8>]"
      ]
     },
     "execution_count": 202,
     "metadata": {},
     "output_type": "execute_result"
    },
    {
     "data": {
      "image/png": "[encoded data removed]",
      "text/plain": [
       "<matplotlib.figure.Figure at 0xc01f4a8>"
      ]
     },
     "metadata": {},
     "output_type": "display_data"
    }
   ],
   "source": [
    "plt.plot(temp[\"RSS\"],'bo-')"
   ]
  },
  {
   "cell_type": "code",
   "execution_count": 203,
   "metadata": {},
   "outputs": [
    {
     "data": {
      "text/plain": [
       "[<matplotlib.lines.Line2D at 0xa64d320>]"
      ]
     },
     "execution_count": 203,
     "metadata": {},
     "output_type": "execute_result"
    },
    {
     "data": {
      "image/png": "[encoded data removed]",
      "text/plain": [
       "<matplotlib.figure.Figure at 0xa692128>"
      ]
     },
     "metadata": {},
     "output_type": "display_data"
    }
   ],
   "source": [
    "plt.plot(temp[\"time\"],'bo-')"
   ]
  }
 ],
 "metadata": {
  "kernelspec": {
   "display_name": "Python 3",
   "language": "python",
   "name": "python3"
  },
  "language_info": {
   "codemirror_mode": {
    "name": "ipython",
    "version": 3
   },
   "file_extension": ".py",
   "mimetype": "text/x-python",
   "name": "python",
   "nbconvert_exporter": "python",
   "pygments_lexer": "ipython3",
   "version": "3.6.1"
  }
 },
 "nbformat": 4,
 "nbformat_minor": 2
}
