{
 "cells": [
  {
   "cell_type": "code",
   "execution_count": 85,
   "metadata": {
    "collapsed": true
   },
   "outputs": [],
   "source": [
    "%matplotlib inline\n",
    "import pandas as pd\n",
    "import matplotlib.pyplot as plt\n",
    "import numpy as np\n",
    "import string\n",
    "\n",
    "import math\n",
    "import json\n",
    "from sklearn.feature_extraction.text import CountVectorizer"
   ]
  },
  {
   "cell_type": "code",
   "execution_count": 90,
   "metadata": {
    "collapsed": true
   },
   "outputs": [],
   "source": [
    "products = pd.read_csv(\"./amazon_baby_subset.csv\")"
   ]
  },
  {
   "cell_type": "code",
   "execution_count": 91,
   "metadata": {
    "collapsed": true
   },
   "outputs": [],
   "source": [
    "with open('./important_words.json') as data_file:    \n",
    "    important_words = json.load(data_file)"
   ]
  },
  {
   "cell_type": "code",
   "execution_count": 92,
   "metadata": {
    "collapsed": true
   },
   "outputs": [],
   "source": [
    "with open('./module-4-assignment-train-idx.json') as data_file:    \n",
    "    train = json.load(data_file)\n",
    "    \n",
    "with open('./module-4-assignment-validation-idx.json') as data_file:    \n",
    "    validate = json.load(data_file)"
   ]
  },
  {
   "cell_type": "code",
   "execution_count": 93,
   "metadata": {
    "collapsed": true
   },
   "outputs": [],
   "source": [
    "products_train = products.loc[train]\n",
    "products_validate = products.loc[validate]"
   ]
  },
  {
   "cell_type": "code",
   "execution_count": 95,
   "metadata": {
    "collapsed": true
   },
   "outputs": [],
   "source": [
    "products = products.fillna({\"review\": \"\"})\n",
    "products_train = products_train.fillna({\"review\": \"\"})\n",
    "products_validate = products_validate.fillna({\"review\": \"\"})"
   ]
  },
  {
   "cell_type": "code",
   "execution_count": 97,
   "metadata": {
    "collapsed": true
   },
   "outputs": [],
   "source": [
    "translator = str.maketrans('','', string.punctuation)\n",
    "products[\"review\"] = products[\"review\"].astype(str)\n",
    "products_train[\"review\"] = products_train[\"review\"].astype(str)\n",
    "products_validate[\"review\"] = products_validate[\"review\"].astype(str)\n",
    "\n",
    "def normalize_string(x):\n",
    "    x = x.str.translate(translator)\n",
    "    x = x.str.lower()\n",
    "    \n",
    "    return x"
   ]
  },
  {
   "cell_type": "code",
   "execution_count": 99,
   "metadata": {
    "collapsed": true
   },
   "outputs": [],
   "source": [
    "products[\"review_clean\"] = normalize_string(products[\"review\"])\n",
    "products_train[\"review_clean\"] = normalize_string(products_train[\"review\"])\n",
    "products_validate[\"review_clean\"] = normalize_string(products_validate[\"review\"])"
   ]
  },
  {
   "cell_type": "code",
   "execution_count": 9,
   "metadata": {
    "collapsed": true
   },
   "outputs": [],
   "source": [
    "vectorizer_word_subset = CountVectorizer(vocabulary = important_words)\n",
    "train_matrix_word_subset = vectorizer_word_subset.fit_transform(products_train['review_clean'])\n",
    "validate_matrix_word_subset = vectorizer_word_subset.transform(products_validate['review_clean'])"
   ]
  },
  {
   "cell_type": "code",
   "execution_count": null,
   "metadata": {
    "collapsed": true
   },
   "outputs": [],
   "source": []
  },
  {
   "cell_type": "code",
   "execution_count": 10,
   "metadata": {
    "collapsed": true
   },
   "outputs": [],
   "source": [
    "from scipy.sparse import hstack, coo_matrix"
   ]
  },
  {
   "cell_type": "code",
   "execution_count": 11,
   "metadata": {
    "collapsed": true
   },
   "outputs": [],
   "source": [
    "def get_numpy_data(dataframe, features, label):\n",
    "    \n",
    "    ones = coo_matrix(coo_matrix((dataframe.shape[0], 1), dtype=np.int8).toarray() + 1)\n",
    "    feature_matrix = hstack([ones, dataframe])\n",
    "\n",
    "    features = [\"constant\"] + features\n",
    "    \n",
    "    return (feature_matrix, features)"
   ]
  },
  {
   "cell_type": "code",
   "execution_count": null,
   "metadata": {
    "collapsed": true
   },
   "outputs": [],
   "source": [
    "feature_matrix_train, sentiment_train = get_numpy_data(train_matrix_word_subset, important_words, \"sentiment\")\n",
    "feature_matrix_valid, sentiment_valid = get_numpy_data(validate_matrix_word_subset, important_words, \"sentiment\")"
   ]
  },
  {
   "cell_type": "markdown",
   "metadata": {},
   "source": [
    "7)"
   ]
  },
  {
   "cell_type": "markdown",
   "metadata": {},
   "source": [
    "Some problems with sparse data... back to numpy"
   ]
  },
  {
   "cell_type": "code",
   "execution_count": 106,
   "metadata": {},
   "outputs": [],
   "source": [
    "for word in important_words:\n",
    "    products_train[word] = products_train[\"review_clean\"].apply(lambda x: x.split().count(word))"
   ]
  },
  {
   "cell_type": "code",
   "execution_count": 107,
   "metadata": {
    "collapsed": true
   },
   "outputs": [],
   "source": [
    "for word in important_words:\n",
    "    products_validate[word] = products_validate[\"review_clean\"].apply(lambda x: x.split().count(word))"
   ]
  },
  {
   "cell_type": "code",
   "execution_count": 109,
   "metadata": {
    "collapsed": true
   },
   "outputs": [],
   "source": [
    "def get_numpy_data(dataframe, features, label):\n",
    "    \n",
    "    dataframe[\"constant\"] = 1\n",
    "    features = [\"constant\"] + features\n",
    "    \n",
    "    feature_matrix = dataframe[features].as_matrix()\n",
    "    label_array = dataframe[label].as_matrix()\n",
    "    return (feature_matrix, label_array)"
   ]
  },
  {
   "cell_type": "code",
   "execution_count": 110,
   "metadata": {},
   "outputs": [],
   "source": [
    "feature_matrix_train, sentiment_train = get_numpy_data(products_train, important_words, \"sentiment\")\n",
    "feature_matrix_valid, sentiment_valid = get_numpy_data(products_validate, important_words, \"sentiment\")"
   ]
  },
  {
   "cell_type": "code",
   "execution_count": 111,
   "metadata": {},
   "outputs": [
    {
     "data": {
      "text/plain": [
       "array([[1, 0, 0, ..., 0, 0, 0],\n",
       "       [1, 0, 0, ..., 0, 0, 0],\n",
       "       [1, 0, 1, ..., 0, 0, 0],\n",
       "       ..., \n",
       "       [1, 1, 0, ..., 0, 0, 0],\n",
       "       [1, 0, 1, ..., 0, 0, 0],\n",
       "       [1, 0, 1, ..., 0, 0, 0]], dtype=int64)"
      ]
     },
     "execution_count": 111,
     "metadata": {},
     "output_type": "execute_result"
    }
   ],
   "source": [
    "feature_matrix_train"
   ]
  },
  {
   "cell_type": "code",
   "execution_count": 117,
   "metadata": {
    "collapsed": true
   },
   "outputs": [],
   "source": [
    "def predict_probability(feature_matrix, coefficients):\n",
    "    score = np.dot(feature_matrix,coefficients)\n",
    "    \n",
    "    predictions = 1/(1 + np.exp(-score))\n",
    "    \n",
    "    return predictions"
   ]
  },
  {
   "cell_type": "code",
   "execution_count": 118,
   "metadata": {},
   "outputs": [
    {
     "data": {
      "text/plain": [
       "array([ 0.5,  0.5,  0.5, ...,  0.5,  0.5,  0.5])"
      ]
     },
     "execution_count": 118,
     "metadata": {},
     "output_type": "execute_result"
    }
   ],
   "source": [
    "predict_probability(feature_matrix_train, np.array([0] * 194))"
   ]
  },
  {
   "cell_type": "code",
   "execution_count": 119,
   "metadata": {
    "collapsed": true
   },
   "outputs": [],
   "source": [
    "def feature_derivative(errors, feature):\n",
    "    return np.dot(errors, feature)"
   ]
  },
  {
   "cell_type": "code",
   "execution_count": 120,
   "metadata": {
    "collapsed": true
   },
   "outputs": [],
   "source": [
    "def feature_derivative_L2penalty(errors, feature, coefficient, L2_pentalty):\n",
    "    derivative = np.dot(errors, feature)\n",
    "    derivative -= 2 * L2_pentalty * coefficient \n",
    "    \n",
    "    return derivative"
   ]
  },
  {
   "cell_type": "code",
   "execution_count": 121,
   "metadata": {
    "collapsed": true
   },
   "outputs": [],
   "source": [
    "def compute_log_likelihood_L2penalty(feature_matrix, sentiment, coefficients, L2_pentalty):\n",
    "    \n",
    "    indicator = (sentiment == 1)\n",
    "    scores = np.dot(feature_matrix, coefficients)\n",
    "    \n",
    "    lp = np.sum((indicator - 1) * scores - np.log(1 + np.exp(-scores)))\n",
    "    lp -= L2_pentalty * np.sum(coefficients[1:] ** 2)\n",
    "    \n",
    "    return lp"
   ]
  },
  {
   "cell_type": "code",
   "execution_count": 132,
   "metadata": {
    "collapsed": true
   },
   "outputs": [],
   "source": [
    "def logistic_regression_withL2(feature_matrix, sentiment, initial_coeffs, \n",
    "                        step_size, max_iter, L2_pentalty) :\n",
    "    \n",
    "    coeffs = np.array(initial_coeffs)\n",
    "    iteration = 0\n",
    "    \n",
    "    while iteration < max_iter:\n",
    "        \n",
    "        predictions = predict_probability(feature_matrix, coeffs)\n",
    "        indicator = 1* (sentiment == 1)\n",
    "        errors = indicator - predictions\n",
    "        \n",
    "        for i in range(len(coeffs)):\n",
    "            \n",
    "            if i == 0:\n",
    "                derivative = feature_derivative(errors, feature_matrix[:,i])\n",
    "            else :\n",
    "                derivative = feature_derivative_L2penalty(errors, feature_matrix[:,i],\n",
    "                                                         coeffs[i], L2_pentalty)\n",
    "                    \n",
    "            \n",
    "            coeffs[i] += step_size * derivative\n",
    "        \n",
    "        iteration += 1\n",
    "        \n",
    "        if iteration <= 15 or (iteration <= 100 and iteration % 10 == 0) or (iteration <= 1000 and iteration % 100 == 0) \\\n",
    "        or (iteration <= 10000 and iteration % 1000 == 0) or iteration % 10000 == 0:\n",
    "            lp = compute_log_likelihood_L2penalty(feature_matrix, sentiment, coeffs, L2_pentalty)\n",
    "            print ('iteration %*d: log likelihood of observed labels = %.8f' % (int(np.ceil(np.log10(max_iter))), iteration, lp))\n",
    "        \n",
    "    return coeffs"
   ]
  },
  {
   "cell_type": "code",
   "execution_count": 139,
   "metadata": {},
   "outputs": [],
   "source": [
    "fm = feature_matrix_train\n",
    "st = sentiment_train\n",
    "initial_coeffs = np.array([0.0] * feature_matrix_train.shape[1])\n",
    "step_size = 5e-6\n",
    "max_iter = 501\n",
    "L2_pentalty = [4,10,1e2,1e3,1e5]"
   ]
  },
  {
   "cell_type": "code",
   "execution_count": 140,
   "metadata": {},
   "outputs": [
    {
     "name": "stdout",
     "output_type": "stream",
     "text": [
      "iteration   1: log likelihood of observed labels = -29140.90942021\n",
      "iteration   2: log likelihood of observed labels = -28928.74458371\n",
      "iteration   3: log likelihood of observed labels = -28725.11592551\n",
      "iteration   4: log likelihood of observed labels = -28529.39915167\n",
      "iteration   5: log likelihood of observed labels = -28341.07958738\n",
      "iteration   6: log likelihood of observed labels = -28159.71563249\n",
      "iteration   7: log likelihood of observed labels = -27984.91691392\n",
      "iteration   8: log likelihood of observed labels = -27816.33083152\n",
      "iteration   9: log likelihood of observed labels = -27653.63410798\n",
      "iteration  10: log likelihood of observed labels = -27496.52738149\n",
      "iteration  11: log likelihood of observed labels = -27344.73164745\n",
      "iteration  12: log likelihood of observed labels = -27197.98581487\n",
      "iteration  13: log likelihood of observed labels = -27056.04493172\n",
      "iteration  14: log likelihood of observed labels = -26918.67881343\n",
      "iteration  15: log likelihood of observed labels = -26785.67091963\n",
      "iteration  20: log likelihood of observed labels = -26179.26755735\n",
      "iteration  30: log likelihood of observed labels = -25198.86945366\n",
      "iteration  40: log likelihood of observed labels = -24438.77613454\n",
      "iteration  50: log likelihood of observed labels = -23830.21857527\n",
      "iteration  60: log likelihood of observed labels = -23330.43209590\n",
      "iteration  70: log likelihood of observed labels = -22911.52090767\n",
      "iteration  80: log likelihood of observed labels = -22554.52023349\n",
      "iteration  90: log likelihood of observed labels = -22246.07479266\n",
      "iteration 100: log likelihood of observed labels = -21976.49355489\n",
      "iteration 200: log likelihood of observed labels = -20406.29225724\n",
      "iteration 300: log likelihood of observed labels = -19684.45401072\n",
      "iteration 400: log likelihood of observed labels = -19265.78539233\n",
      "iteration 500: log likelihood of observed labels = -18993.32971446\n",
      "iteration   1: log likelihood of observed labels = -29140.91613870\n",
      "iteration   2: log likelihood of observed labels = -28928.78373657\n",
      "iteration   3: log likelihood of observed labels = -28725.21111528\n",
      "iteration   4: log likelihood of observed labels = -28529.57212087\n",
      "iteration   5: log likelihood of observed labels = -28341.35040669\n",
      "iteration   6: log likelihood of observed labels = -28160.10285131\n",
      "iteration   7: log likelihood of observed labels = -27985.43768808\n",
      "iteration   8: log likelihood of observed labels = -27817.00103593\n",
      "iteration   9: log likelihood of observed labels = -27654.46843854\n",
      "iteration  10: log likelihood of observed labels = -27497.53944837\n",
      "iteration  11: log likelihood of observed labels = -27345.93406065\n",
      "iteration  12: log likelihood of observed labels = -27199.39026292\n",
      "iteration  13: log likelihood of observed labels = -27057.66225388\n",
      "iteration  14: log likelihood of observed labels = -26920.51906593\n",
      "iteration  15: log likelihood of observed labels = -26787.74343631\n",
      "iteration  20: log likelihood of observed labels = -26182.61975374\n",
      "iteration  30: log likelihood of observed labels = -25205.19096153\n",
      "iteration  40: log likelihood of observed labels = -24448.37104780\n",
      "iteration  50: log likelihood of observed labels = -23843.22754166\n",
      "iteration  60: log likelihood of observed labels = -23346.90790234\n",
      "iteration  70: log likelihood of observed labels = -22931.46671883\n",
      "iteration  80: log likelihood of observed labels = -22577.91025647\n",
      "iteration  90: log likelihood of observed labels = -22272.86605153\n",
      "iteration 100: log likelihood of observed labels = -22006.63288933\n",
      "iteration 200: log likelihood of observed labels = -20466.51608229\n",
      "iteration 300: log likelihood of observed labels = -19769.29567827\n",
      "iteration 400: log likelihood of observed labels = -19371.15857119\n",
      "iteration 500: log likelihood of observed labels = -19116.12804929\n",
      "iteration   1: log likelihood of observed labels = -29141.01691614\n",
      "iteration   2: log likelihood of observed labels = -28929.37064887\n",
      "iteration   3: log likelihood of observed labels = -28726.63712015\n",
      "iteration   4: log likelihood of observed labels = -28532.16166013\n",
      "iteration   5: log likelihood of observed labels = -28345.40230210\n",
      "iteration   6: log likelihood of observed labels = -28165.89262642\n",
      "iteration   7: log likelihood of observed labels = -27993.21953899\n",
      "iteration   8: log likelihood of observed labels = -27827.00957174\n",
      "iteration   9: log likelihood of observed labels = -27666.92025430\n",
      "iteration  10: log likelihood of observed labels = -27512.63456252\n",
      "iteration  11: log likelihood of observed labels = -27363.85723396\n",
      "iteration  12: log likelihood of observed labels = -27220.31220914\n",
      "iteration  13: log likelihood of observed labels = -27081.74075016\n",
      "iteration  14: log likelihood of observed labels = -26947.89997019\n",
      "iteration  15: log likelihood of observed labels = -26818.56161845\n",
      "iteration  20: log likelihood of observed labels = -26232.31852827\n",
      "iteration  30: log likelihood of observed labels = -25298.36747522\n",
      "iteration  40: log likelihood of observed labels = -24588.99158137\n",
      "iteration  50: log likelihood of observed labels = -24032.81563458\n",
      "iteration  60: log likelihood of observed labels = -23585.69299827\n",
      "iteration  70: log likelihood of observed labels = -23218.96311974\n",
      "iteration  80: log likelihood of observed labels = -22913.22854662\n",
      "iteration  90: log likelihood of observed labels = -22654.88944705\n",
      "iteration 100: log likelihood of observed labels = -22434.12117118\n",
      "iteration 200: log likelihood of observed labels = -21278.77067311\n",
      "iteration 300: log likelihood of observed labels = -20862.40420004\n",
      "iteration 400: log likelihood of observed labels = -20673.47537603\n",
      "iteration 500: log likelihood of observed labels = -20577.45714940\n",
      "iteration   1: log likelihood of observed labels = -29142.02469049\n",
      "iteration   2: log likelihood of observed labels = -28935.20063391\n",
      "iteration   3: log likelihood of observed labels = -28740.70867887\n",
      "iteration   4: log likelihood of observed labels = -28557.54800631\n",
      "iteration   5: log likelihood of observed labels = -28384.86800148\n",
      "iteration   6: log likelihood of observed labels = -28221.92422957\n",
      "iteration   7: log likelihood of observed labels = -28068.05179300\n",
      "iteration   8: log likelihood of observed labels = -27922.64854438\n",
      "iteration   9: log likelihood of observed labels = -27785.16409134\n",
      "iteration  10: log likelihood of observed labels = -27655.09227519\n",
      "iteration  11: log likelihood of observed labels = -27531.96575608\n",
      "iteration  12: log likelihood of observed labels = -27415.35189303\n",
      "iteration  13: log likelihood of observed labels = -27304.84943985\n",
      "iteration  14: log likelihood of observed labels = -27200.08577649\n",
      "iteration  15: log likelihood of observed labels = -27100.71451182\n",
      "iteration  20: log likelihood of observed labels = -26674.20589980\n",
      "iteration  30: log likelihood of observed labels = -26081.82934000\n",
      "iteration  40: log likelihood of observed labels = -25710.62722798\n",
      "iteration  50: log likelihood of observed labels = -25471.29556501\n",
      "iteration  60: log likelihood of observed labels = -25313.50256035\n",
      "iteration  70: log likelihood of observed labels = -25207.59642315\n",
      "iteration  80: log likelihood of observed labels = -25135.47634914\n",
      "iteration  90: log likelihood of observed labels = -25085.77117502\n",
      "iteration 100: log likelihood of observed labels = -25051.16814745\n",
      "iteration 200: log likelihood of observed labels = -24969.19323703\n",
      "iteration 300: log likelihood of observed labels = -24965.90337000\n",
      "iteration 400: log likelihood of observed labels = -24965.78849286\n",
      "iteration 500: log likelihood of observed labels = -24965.79704569\n",
      "iteration   1: log likelihood of observed labels = -29252.87986934\n",
      "iteration   2: log likelihood of observed labels = -29252.79428819\n",
      "iteration   3: log likelihood of observed labels = -29252.84818091\n",
      "iteration   4: log likelihood of observed labels = -29252.94639589\n",
      "iteration   5: log likelihood of observed labels = -29253.07662556\n",
      "iteration   6: log likelihood of observed labels = -29253.23491331\n",
      "iteration   7: log likelihood of observed labels = -29253.41637098\n",
      "iteration   8: log likelihood of observed labels = -29253.61709061\n",
      "iteration   9: log likelihood of observed labels = -29253.83350445\n",
      "iteration  10: log likelihood of observed labels = -29254.06249206\n",
      "iteration  11: log likelihood of observed labels = -29254.30129734\n",
      "iteration  12: log likelihood of observed labels = -29254.54749997\n",
      "iteration  13: log likelihood of observed labels = -29254.79897792\n"
     ]
    },
    {
     "name": "stdout",
     "output_type": "stream",
     "text": [
      "iteration  14: log likelihood of observed labels = -29255.05387671\n",
      "iteration  15: log likelihood of observed labels = -29255.31058084\n",
      "iteration  20: log likelihood of observed labels = -29256.57836031\n",
      "iteration  30: log likelihood of observed labels = -29258.77204301\n",
      "iteration  40: log likelihood of observed labels = -29260.35846948\n",
      "iteration  50: log likelihood of observed labels = -29261.42016843\n",
      "iteration  60: log likelihood of observed labels = -29262.10364389\n",
      "iteration  70: log likelihood of observed labels = -29262.53439210\n",
      "iteration  80: log likelihood of observed labels = -29262.80258038\n",
      "iteration  90: log likelihood of observed labels = -29262.96836607\n",
      "iteration 100: log likelihood of observed labels = -29263.07041223\n",
      "iteration 200: log likelihood of observed labels = -29263.23087052\n",
      "iteration 300: log likelihood of observed labels = -29263.23204800\n",
      "iteration 400: log likelihood of observed labels = -29263.23205661\n",
      "iteration 500: log likelihood of observed labels = -29263.23205667\n"
     ]
    }
   ],
   "source": [
    "coefficients1 = logistic_regression_withL2(fm, st, initial_coeffs, step_size, max_iter, 4)\n",
    "coefficients2 = logistic_regression_withL2(fm, st, initial_coeffs, step_size, max_iter, 10)\n",
    "coefficients3 = logistic_regression_withL2(fm, st, initial_coeffs, step_size, max_iter, 1e2)\n",
    "coefficients4 = logistic_regression_withL2(fm, st, initial_coeffs, step_size, max_iter, 1e3)\n",
    "coefficients5 = logistic_regression_withL2(fm, st, initial_coeffs, step_size, max_iter, 1e5)"
   ]
  },
  {
   "cell_type": "code",
   "execution_count": 144,
   "metadata": {},
   "outputs": [],
   "source": [
    "features = [\"constant\"] + important_words"
   ]
  },
  {
   "cell_type": "code",
   "execution_count": 155,
   "metadata": {
    "collapsed": true
   },
   "outputs": [],
   "source": [
    "coefs = pd.DataFrame([coefficients1, coefficients2, coefficients3, coefficients4, coefficients5],\n",
    "                    columns = features, index = [4,10,1e2,1e3,1e5])"
   ]
  },
  {
   "cell_type": "code",
   "execution_count": 156,
   "metadata": {},
   "outputs": [
    {
     "data": {
      "text/html": [
       "<div>\n",
       "<style>\n",
       "    .dataframe thead tr:only-child th {\n",
       "        text-align: right;\n",
       "    }\n",
       "\n",
       "    .dataframe thead th {\n",
       "        text-align: left;\n",
       "    }\n",
       "\n",
       "    .dataframe tbody tr th {\n",
       "        vertical-align: top;\n",
       "    }\n",
       "</style>\n",
       "<table border=\"1\" class=\"dataframe\">\n",
       "  <thead>\n",
       "    <tr style=\"text-align: right;\">\n",
       "      <th></th>\n",
       "      <th>constant</th>\n",
       "      <th>baby</th>\n",
       "      <th>one</th>\n",
       "      <th>great</th>\n",
       "      <th>love</th>\n",
       "      <th>use</th>\n",
       "      <th>would</th>\n",
       "      <th>like</th>\n",
       "      <th>easy</th>\n",
       "      <th>little</th>\n",
       "      <th>...</th>\n",
       "      <th>seems</th>\n",
       "      <th>picture</th>\n",
       "      <th>completely</th>\n",
       "      <th>wish</th>\n",
       "      <th>buying</th>\n",
       "      <th>babies</th>\n",
       "      <th>won</th>\n",
       "      <th>tub</th>\n",
       "      <th>almost</th>\n",
       "      <th>either</th>\n",
       "    </tr>\n",
       "  </thead>\n",
       "  <tbody>\n",
       "    <tr>\n",
       "      <th>4.0</th>\n",
       "      <td>-0.153241</td>\n",
       "      <td>0.058774</td>\n",
       "      <td>0.012052</td>\n",
       "      <td>0.888996</td>\n",
       "      <td>1.144351</td>\n",
       "      <td>-0.005635</td>\n",
       "      <td>-0.258379</td>\n",
       "      <td>0.014425</td>\n",
       "      <td>1.033850</td>\n",
       "      <td>0.502970</td>\n",
       "      <td>...</td>\n",
       "      <td>0.067621</td>\n",
       "      <td>-0.197507</td>\n",
       "      <td>-0.282709</td>\n",
       "      <td>0.161755</td>\n",
       "      <td>-0.118763</td>\n",
       "      <td>0.032978</td>\n",
       "      <td>0.004479</td>\n",
       "      <td>-0.158615</td>\n",
       "      <td>-0.052728</td>\n",
       "      <td>-0.216085</td>\n",
       "    </tr>\n",
       "    <tr>\n",
       "      <th>10.0</th>\n",
       "      <td>-0.151747</td>\n",
       "      <td>0.058826</td>\n",
       "      <td>0.011660</td>\n",
       "      <td>0.881543</td>\n",
       "      <td>1.132545</td>\n",
       "      <td>-0.005210</td>\n",
       "      <td>-0.257096</td>\n",
       "      <td>0.014090</td>\n",
       "      <td>1.023128</td>\n",
       "      <td>0.498627</td>\n",
       "      <td>...</td>\n",
       "      <td>0.066862</td>\n",
       "      <td>-0.195063</td>\n",
       "      <td>-0.279049</td>\n",
       "      <td>0.159605</td>\n",
       "      <td>-0.117285</td>\n",
       "      <td>0.032677</td>\n",
       "      <td>0.004408</td>\n",
       "      <td>-0.156669</td>\n",
       "      <td>-0.051962</td>\n",
       "      <td>-0.213231</td>\n",
       "    </tr>\n",
       "    <tr>\n",
       "      <th>100.0</th>\n",
       "      <td>-0.131852</td>\n",
       "      <td>0.059429</td>\n",
       "      <td>0.006670</td>\n",
       "      <td>0.786974</td>\n",
       "      <td>0.984137</td>\n",
       "      <td>0.000081</td>\n",
       "      <td>-0.240945</td>\n",
       "      <td>0.009800</td>\n",
       "      <td>0.888234</td>\n",
       "      <td>0.443734</td>\n",
       "      <td>...</td>\n",
       "      <td>0.057177</td>\n",
       "      <td>-0.163933</td>\n",
       "      <td>-0.232435</td>\n",
       "      <td>0.132081</td>\n",
       "      <td>-0.098449</td>\n",
       "      <td>0.028897</td>\n",
       "      <td>0.003515</td>\n",
       "      <td>-0.132130</td>\n",
       "      <td>-0.042145</td>\n",
       "      <td>-0.176839</td>\n",
       "    </tr>\n",
       "    <tr>\n",
       "      <th>1000.0</th>\n",
       "      <td>-0.046441</td>\n",
       "      <td>0.053699</td>\n",
       "      <td>-0.009397</td>\n",
       "      <td>0.437837</td>\n",
       "      <td>0.485906</td>\n",
       "      <td>0.013353</td>\n",
       "      <td>-0.174689</td>\n",
       "      <td>-0.002739</td>\n",
       "      <td>0.434566</td>\n",
       "      <td>0.243872</td>\n",
       "      <td>...</td>\n",
       "      <td>0.024012</td>\n",
       "      <td>-0.062258</td>\n",
       "      <td>-0.083223</td>\n",
       "      <td>0.042614</td>\n",
       "      <td>-0.037609</td>\n",
       "      <td>0.015262</td>\n",
       "      <td>0.001027</td>\n",
       "      <td>-0.053297</td>\n",
       "      <td>-0.011215</td>\n",
       "      <td>-0.060602</td>\n",
       "    </tr>\n",
       "    <tr>\n",
       "      <th>100000.0</th>\n",
       "      <td>0.010470</td>\n",
       "      <td>0.001721</td>\n",
       "      <td>-0.001980</td>\n",
       "      <td>0.011395</td>\n",
       "      <td>0.011689</td>\n",
       "      <td>0.000352</td>\n",
       "      <td>-0.007986</td>\n",
       "      <td>-0.000846</td>\n",
       "      <td>0.010102</td>\n",
       "      <td>0.005963</td>\n",
       "      <td>...</td>\n",
       "      <td>0.000322</td>\n",
       "      <td>-0.001201</td>\n",
       "      <td>-0.001486</td>\n",
       "      <td>0.000461</td>\n",
       "      <td>-0.000783</td>\n",
       "      <td>0.000261</td>\n",
       "      <td>0.000017</td>\n",
       "      <td>-0.000945</td>\n",
       "      <td>-0.000166</td>\n",
       "      <td>-0.001042</td>\n",
       "    </tr>\n",
       "  </tbody>\n",
       "</table>\n",
       "<p>5 rows × 194 columns</p>\n",
       "</div>"
      ],
      "text/plain": [
       "          constant      baby       one     great      love       use  \\\n",
       "4.0      -0.153241  0.058774  0.012052  0.888996  1.144351 -0.005635   \n",
       "10.0     -0.151747  0.058826  0.011660  0.881543  1.132545 -0.005210   \n",
       "100.0    -0.131852  0.059429  0.006670  0.786974  0.984137  0.000081   \n",
       "1000.0   -0.046441  0.053699 -0.009397  0.437837  0.485906  0.013353   \n",
       "100000.0  0.010470  0.001721 -0.001980  0.011395  0.011689  0.000352   \n",
       "\n",
       "             would      like      easy    little    ...        seems  \\\n",
       "4.0      -0.258379  0.014425  1.033850  0.502970    ...     0.067621   \n",
       "10.0     -0.257096  0.014090  1.023128  0.498627    ...     0.066862   \n",
       "100.0    -0.240945  0.009800  0.888234  0.443734    ...     0.057177   \n",
       "1000.0   -0.174689 -0.002739  0.434566  0.243872    ...     0.024012   \n",
       "100000.0 -0.007986 -0.000846  0.010102  0.005963    ...     0.000322   \n",
       "\n",
       "           picture  completely      wish    buying    babies       won  \\\n",
       "4.0      -0.197507   -0.282709  0.161755 -0.118763  0.032978  0.004479   \n",
       "10.0     -0.195063   -0.279049  0.159605 -0.117285  0.032677  0.004408   \n",
       "100.0    -0.163933   -0.232435  0.132081 -0.098449  0.028897  0.003515   \n",
       "1000.0   -0.062258   -0.083223  0.042614 -0.037609  0.015262  0.001027   \n",
       "100000.0 -0.001201   -0.001486  0.000461 -0.000783  0.000261  0.000017   \n",
       "\n",
       "               tub    almost    either  \n",
       "4.0      -0.158615 -0.052728 -0.216085  \n",
       "10.0     -0.156669 -0.051962 -0.213231  \n",
       "100.0    -0.132130 -0.042145 -0.176839  \n",
       "1000.0   -0.053297 -0.011215 -0.060602  \n",
       "100000.0 -0.000945 -0.000166 -0.001042  \n",
       "\n",
       "[5 rows x 194 columns]"
      ]
     },
     "execution_count": 156,
     "metadata": {},
     "output_type": "execute_result"
    }
   ],
   "source": [
    "coefs"
   ]
  },
  {
   "cell_type": "code",
   "execution_count": 157,
   "metadata": {
    "collapsed": true
   },
   "outputs": [],
   "source": [
    "five_pos_words = ['love', 'great', 'easy', 'loves', 'little']\n",
    "five_neg_words = ['return', 'waste', 'back', 'get', 'disappointed']"
   ]
  },
  {
   "cell_type": "code",
   "execution_count": 158,
   "metadata": {
    "collapsed": true
   },
   "outputs": [],
   "source": [
    "words = five_pos_words + five_neg_words"
   ]
  },
  {
   "cell_type": "code",
   "execution_count": 159,
   "metadata": {
    "collapsed": true
   },
   "outputs": [],
   "source": [
    "coefs_10 = coefs[words]"
   ]
  },
  {
   "cell_type": "code",
   "execution_count": 160,
   "metadata": {},
   "outputs": [
    {
     "data": {
      "text/html": [
       "<div>\n",
       "<style>\n",
       "    .dataframe thead tr:only-child th {\n",
       "        text-align: right;\n",
       "    }\n",
       "\n",
       "    .dataframe thead th {\n",
       "        text-align: left;\n",
       "    }\n",
       "\n",
       "    .dataframe tbody tr th {\n",
       "        vertical-align: top;\n",
       "    }\n",
       "</style>\n",
       "<table border=\"1\" class=\"dataframe\">\n",
       "  <thead>\n",
       "    <tr style=\"text-align: right;\">\n",
       "      <th></th>\n",
       "      <th>love</th>\n",
       "      <th>great</th>\n",
       "      <th>easy</th>\n",
       "      <th>loves</th>\n",
       "      <th>little</th>\n",
       "      <th>return</th>\n",
       "      <th>waste</th>\n",
       "      <th>back</th>\n",
       "      <th>get</th>\n",
       "      <th>disappointed</th>\n",
       "    </tr>\n",
       "  </thead>\n",
       "  <tbody>\n",
       "    <tr>\n",
       "      <th>4.0</th>\n",
       "      <td>1.144351</td>\n",
       "      <td>0.888996</td>\n",
       "      <td>1.033850</td>\n",
       "      <td>1.070813</td>\n",
       "      <td>0.502970</td>\n",
       "      <td>-0.711740</td>\n",
       "      <td>-0.655177</td>\n",
       "      <td>-0.268774</td>\n",
       "      <td>-0.191972</td>\n",
       "      <td>-0.956588</td>\n",
       "    </tr>\n",
       "    <tr>\n",
       "      <th>10.0</th>\n",
       "      <td>1.132545</td>\n",
       "      <td>0.881543</td>\n",
       "      <td>1.023128</td>\n",
       "      <td>1.057906</td>\n",
       "      <td>0.498627</td>\n",
       "      <td>-0.702302</td>\n",
       "      <td>-0.646755</td>\n",
       "      <td>-0.266464</td>\n",
       "      <td>-0.190936</td>\n",
       "      <td>-0.943967</td>\n",
       "    </tr>\n",
       "    <tr>\n",
       "      <th>100.0</th>\n",
       "      <td>0.984137</td>\n",
       "      <td>0.786974</td>\n",
       "      <td>0.888234</td>\n",
       "      <td>0.894179</td>\n",
       "      <td>0.443734</td>\n",
       "      <td>-0.582604</td>\n",
       "      <td>-0.540351</td>\n",
       "      <td>-0.237423</td>\n",
       "      <td>-0.177819</td>\n",
       "      <td>-0.783307</td>\n",
       "    </tr>\n",
       "    <tr>\n",
       "      <th>1000.0</th>\n",
       "      <td>0.485906</td>\n",
       "      <td>0.437837</td>\n",
       "      <td>0.434566</td>\n",
       "      <td>0.359548</td>\n",
       "      <td>0.243872</td>\n",
       "      <td>-0.209110</td>\n",
       "      <td>-0.206189</td>\n",
       "      <td>-0.134480</td>\n",
       "      <td>-0.121756</td>\n",
       "      <td>-0.271392</td>\n",
       "    </tr>\n",
       "    <tr>\n",
       "      <th>100000.0</th>\n",
       "      <td>0.011689</td>\n",
       "      <td>0.011395</td>\n",
       "      <td>0.010102</td>\n",
       "      <td>0.006587</td>\n",
       "      <td>0.005963</td>\n",
       "      <td>-0.003766</td>\n",
       "      <td>-0.003745</td>\n",
       "      <td>-0.004062</td>\n",
       "      <td>-0.004667</td>\n",
       "      <td>-0.004223</td>\n",
       "    </tr>\n",
       "  </tbody>\n",
       "</table>\n",
       "</div>"
      ],
      "text/plain": [
       "              love     great      easy     loves    little    return  \\\n",
       "4.0       1.144351  0.888996  1.033850  1.070813  0.502970 -0.711740   \n",
       "10.0      1.132545  0.881543  1.023128  1.057906  0.498627 -0.702302   \n",
       "100.0     0.984137  0.786974  0.888234  0.894179  0.443734 -0.582604   \n",
       "1000.0    0.485906  0.437837  0.434566  0.359548  0.243872 -0.209110   \n",
       "100000.0  0.011689  0.011395  0.010102  0.006587  0.005963 -0.003766   \n",
       "\n",
       "             waste      back       get  disappointed  \n",
       "4.0      -0.655177 -0.268774 -0.191972     -0.956588  \n",
       "10.0     -0.646755 -0.266464 -0.190936     -0.943967  \n",
       "100.0    -0.540351 -0.237423 -0.177819     -0.783307  \n",
       "1000.0   -0.206189 -0.134480 -0.121756     -0.271392  \n",
       "100000.0 -0.003745 -0.004062 -0.004667     -0.004223  "
      ]
     },
     "execution_count": 160,
     "metadata": {},
     "output_type": "execute_result"
    }
   ],
   "source": [
    "coefs_10"
   ]
  },
  {
   "cell_type": "code",
   "execution_count": 161,
   "metadata": {
    "collapsed": true
   },
   "outputs": [],
   "source": [
    "import matplotlib.pyplot as plt\n",
    "%matplotlib inline\n",
    "plt.rcParams['figure.figsize'] = 10, 6"
   ]
  },
  {
   "cell_type": "code",
   "execution_count": 164,
   "metadata": {},
   "outputs": [
    {
     "data": {
      "text/plain": [
       "[<matplotlib.lines.Line2D at 0x29410320>,\n",
       " <matplotlib.lines.Line2D at 0x294105c0>,\n",
       " <matplotlib.lines.Line2D at 0x294107b8>,\n",
       " <matplotlib.lines.Line2D at 0x294109b0>,\n",
       " <matplotlib.lines.Line2D at 0x29410be0>,\n",
       " <matplotlib.lines.Line2D at 0x2941b0f0>,\n",
       " <matplotlib.lines.Line2D at 0x2941b320>,\n",
       " <matplotlib.lines.Line2D at 0x2941b550>,\n",
       " <matplotlib.lines.Line2D at 0x2941b780>,\n",
       " <matplotlib.lines.Line2D at 0x2941b9b0>]"
      ]
     },
     "execution_count": 164,
     "metadata": {},
     "output_type": "execute_result"
    },
    {
     "data": {
      "image/png": "[encoded data removed]",
      "text/plain": [
       "<matplotlib.figure.Figure at 0x1d7291d0>"
      ]
     },
     "metadata": {},
     "output_type": "display_data"
    }
   ],
   "source": [
    "plt.plot( np.log(coefs_10.index), coefs_10)"
   ]
  },
  {
   "cell_type": "code",
   "execution_count": 166,
   "metadata": {},
   "outputs": [],
   "source": [
    "def class_pred(feature_matrix, coefficients):\n",
    "    score = np.dot(feature_matrix,coefficients)\n",
    "    \n",
    "    class_pred = 2*(score >= 0) - 1\n",
    "    \n",
    "    return class_pred"
   ]
  },
  {
   "cell_type": "markdown",
   "metadata": {},
   "source": [
    "15)"
   ]
  },
  {
   "cell_type": "code",
   "execution_count": 169,
   "metadata": {
    "collapsed": true
   },
   "outputs": [],
   "source": [
    "def measure_accuracy(coeffictients):\n",
    "    \n",
    "    train_class = class_pred(feature_matrix_train, coeffictients)\n",
    "    valid_class = class_pred(feature_matrix_valid, coeffictients)\n",
    "    \n",
    "    acc_train = np.sum(1 * (train_class == sentiment_train)) / len(train_class)\n",
    "    acc_valid = np.sum(1 * (valid_class == sentiment_valid)) / len(valid_class)\n",
    "    \n",
    "    return acc_train, acc_valid"
   ]
  },
  {
   "cell_type": "code",
   "execution_count": 172,
   "metadata": {},
   "outputs": [
    {
     "name": "stdout",
     "output_type": "stream",
     "text": [
      "(0.8020821038219117, 0.79563066006908789)\n",
      "(0.80201128396402355, 0.79544393614041642)\n",
      "(0.80118505228866177, 0.79441695453272332)\n",
      "(0.79079813979839952, 0.78554756792082903)\n",
      "(0.70373692783456476, 0.69013164036971342)\n"
     ]
    }
   ],
   "source": [
    "print(measure_accuracy(coefficients1))\n",
    "print(measure_accuracy(coefficients2))\n",
    "print(measure_accuracy(coefficients3))\n",
    "print(measure_accuracy(coefficients4))\n",
    "print(measure_accuracy(coefficients5))"
   ]
  },
  {
   "cell_type": "code",
   "execution_count": null,
   "metadata": {
    "collapsed": true
   },
   "outputs": [],
   "source": []
  }
 ],
 "metadata": {
  "kernelspec": {
   "display_name": "Python 3",
   "language": "python",
   "name": "python3"
  },
  "language_info": {
   "codemirror_mode": {
    "name": "ipython",
    "version": 3
   },
   "file_extension": ".py",
   "mimetype": "text/x-python",
   "name": "python",
   "nbconvert_exporter": "python",
   "pygments_lexer": "ipython3",
   "version": "3.6.1"
  }
 },
 "nbformat": 4,
 "nbformat_minor": 2
}
