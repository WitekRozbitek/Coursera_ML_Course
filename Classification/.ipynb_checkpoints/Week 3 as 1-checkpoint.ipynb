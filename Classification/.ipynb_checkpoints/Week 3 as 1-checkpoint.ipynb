{
 "cells": [
  {
   "cell_type": "code",
   "execution_count": 1,
   "metadata": {
    "collapsed": true
   },
   "outputs": [],
   "source": [
    "%matplotlib inline\n",
    "import pandas as pd\n",
    "import matplotlib.pyplot as plt\n",
    "import numpy as np\n",
    "import json"
   ]
  },
  {
   "cell_type": "code",
   "execution_count": 2,
   "metadata": {
    "collapsed": true
   },
   "outputs": [],
   "source": [
    "np.set_printoptions(precision=4)"
   ]
  },
  {
   "cell_type": "code",
   "execution_count": 165,
   "metadata": {},
   "outputs": [
    {
     "name": "stderr",
     "output_type": "stream",
     "text": [
      "C:\\Users\\Witek\\Anaconda3\\lib\\site-packages\\IPython\\core\\interactiveshell.py:2717: DtypeWarning: Columns (19,47) have mixed types. Specify dtype option on import or set low_memory=False.\n",
      "  interactivity=interactivity, compiler=compiler, result=result)\n"
     ]
    }
   ],
   "source": [
    "loans = pd.read_csv(\"./lending-club-data.csv\")"
   ]
  },
  {
   "cell_type": "code",
   "execution_count": 166,
   "metadata": {},
   "outputs": [
    {
     "data": {
      "text/plain": [
       "(122607, 68)"
      ]
     },
     "execution_count": 166,
     "metadata": {},
     "output_type": "execute_result"
    }
   ],
   "source": [
    "loans.shape"
   ]
  },
  {
   "cell_type": "code",
   "execution_count": 167,
   "metadata": {},
   "outputs": [
    {
     "data": {
      "text/plain": [
       "Index(['id', 'member_id', 'loan_amnt', 'funded_amnt', 'funded_amnt_inv',\n",
       "       'term', 'int_rate', 'installment', 'grade', 'sub_grade', 'emp_title',\n",
       "       'emp_length', 'home_ownership', 'annual_inc', 'is_inc_v', 'issue_d',\n",
       "       'loan_status', 'pymnt_plan', 'url', 'desc', 'purpose', 'title',\n",
       "       'zip_code', 'addr_state', 'dti', 'delinq_2yrs', 'earliest_cr_line',\n",
       "       'inq_last_6mths', 'mths_since_last_delinq', 'mths_since_last_record',\n",
       "       'open_acc', 'pub_rec', 'revol_bal', 'revol_util', 'total_acc',\n",
       "       'initial_list_status', 'out_prncp', 'out_prncp_inv', 'total_pymnt',\n",
       "       'total_pymnt_inv', 'total_rec_prncp', 'total_rec_int',\n",
       "       'total_rec_late_fee', 'recoveries', 'collection_recovery_fee',\n",
       "       'last_pymnt_d', 'last_pymnt_amnt', 'next_pymnt_d', 'last_credit_pull_d',\n",
       "       'collections_12_mths_ex_med', 'mths_since_last_major_derog',\n",
       "       'policy_code', 'not_compliant', 'status', 'inactive_loans', 'bad_loans',\n",
       "       'emp_length_num', 'grade_num', 'sub_grade_num', 'delinq_2yrs_zero',\n",
       "       'pub_rec_zero', 'collections_12_mths_zero', 'short_emp',\n",
       "       'payment_inc_ratio', 'final_d', 'last_delinq_none', 'last_record_none',\n",
       "       'last_major_derog_none'],\n",
       "      dtype='object')"
      ]
     },
     "execution_count": 167,
     "metadata": {},
     "output_type": "execute_result"
    }
   ],
   "source": [
    "loans.columns"
   ]
  },
  {
   "cell_type": "code",
   "execution_count": 168,
   "metadata": {},
   "outputs": [
    {
     "data": {
      "image/png": "[encoded data removed]",
      "text/plain": [
       "<matplotlib.figure.Figure at 0x1544d080>"
      ]
     },
     "metadata": {},
     "output_type": "display_data"
    }
   ],
   "source": [
    "n, bins, patches = plt.hist(loans[\"loan_amnt\"], 50, normed=1, facecolor='green', alpha=0.75)"
   ]
  },
  {
   "cell_type": "markdown",
   "metadata": {},
   "source": [
    "3,4)"
   ]
  },
  {
   "cell_type": "code",
   "execution_count": 169,
   "metadata": {
    "collapsed": true
   },
   "outputs": [],
   "source": [
    "loans[\"safe_loans\"] = - 2 * loans[\"bad_loans\"] + 1"
   ]
  },
  {
   "cell_type": "code",
   "execution_count": 170,
   "metadata": {},
   "outputs": [
    {
     "data": {
      "text/plain": [
       "'0.81'"
      ]
     },
     "execution_count": 170,
     "metadata": {},
     "output_type": "execute_result"
    }
   ],
   "source": [
    "positive = sum(loans[\"safe_loans\"] == 1) / len(loans[\"safe_loans\"])\n",
    "format(positive, '.2f')"
   ]
  },
  {
   "cell_type": "markdown",
   "metadata": {},
   "source": [
    "5)"
   ]
  },
  {
   "cell_type": "code",
   "execution_count": 171,
   "metadata": {},
   "outputs": [],
   "source": [
    "features = ['grade',                     # grade of the loan\n",
    "            'sub_grade',                 # sub-grade of the loan\n",
    "            'short_emp',                 # one year or less of employment\n",
    "            'emp_length_num',            # number of years of employment\n",
    "            'home_ownership',            # home_ownership status: own, mortgage or rent\n",
    "            'dti',                       # debt to income ratio\n",
    "            'purpose',                   # the purpose of the loan\n",
    "            'term',                      # the term of the loan\n",
    "            'last_delinq_none',          # has borrower had a delinquincy\n",
    "            'last_major_derog_none',     # has borrower had 90 day or worse rating\n",
    "            'revol_util',                # percent of available credit being used\n",
    "            'total_rec_late_fee',        # total late fees received to day\n",
    "           ]\n",
    "\n",
    "target = 'safe_loans'                    # prediction target (y) (+1 means safe, -1 is risky)\n",
    "\n",
    "# Extract the feature columns and target column\n",
    "loans = loans[features + [target]]"
   ]
  },
  {
   "cell_type": "code",
   "execution_count": 172,
   "metadata": {
    "collapsed": true
   },
   "outputs": [],
   "source": [
    "with open('./module-5-assignment-1-train-idx.json') as data_file:    \n",
    "    train = json.load(data_file)\n",
    "    \n",
    "with open('./module-5-assignment-1-validation-idx.json') as data_file:    \n",
    "    validation = json.load(data_file)"
   ]
  },
  {
   "cell_type": "code",
   "execution_count": 173,
   "metadata": {
    "collapsed": true
   },
   "outputs": [],
   "source": [
    "train_data = loans.loc[train]\n",
    "validation_data = loans.loc[validation]"
   ]
  },
  {
   "cell_type": "code",
   "execution_count": 174,
   "metadata": {},
   "outputs": [
    {
     "name": "stdout",
     "output_type": "stream",
     "text": [
      "0.503653556845\n",
      "0.496346443155\n",
      "37224\n"
     ]
    }
   ],
   "source": [
    "print(sum(train_data[\"safe_loans\"] == 1)/len(train_data))\n",
    "print(sum(train_data[\"safe_loans\"] != 1)/len(train_data))\n",
    "print(len(train_data))"
   ]
  },
  {
   "cell_type": "code",
   "execution_count": 175,
   "metadata": {
    "collapsed": true
   },
   "outputs": [],
   "source": [
    "from sklearn.preprocessing import OneHotEncoder"
   ]
  },
  {
   "cell_type": "code",
   "execution_count": 176,
   "metadata": {
    "collapsed": true
   },
   "outputs": [],
   "source": [
    "loans_types = loans.dtypes.reset_index()\n",
    "loans_types.columns = [\"feature\", \"type\"]\n",
    "    \n",
    "categorical_features = loans_types[\"feature\"][loans_types[\"type\"] == \"object\"]"
   ]
  },
  {
   "cell_type": "code",
   "execution_count": 177,
   "metadata": {},
   "outputs": [
    {
     "data": {
      "text/html": [
       "<div>\n",
       "<style>\n",
       "    .dataframe thead tr:only-child th {\n",
       "        text-align: right;\n",
       "    }\n",
       "\n",
       "    .dataframe thead th {\n",
       "        text-align: left;\n",
       "    }\n",
       "\n",
       "    .dataframe tbody tr th {\n",
       "        vertical-align: top;\n",
       "    }\n",
       "</style>\n",
       "<table border=\"1\" class=\"dataframe\">\n",
       "  <thead>\n",
       "    <tr style=\"text-align: right;\">\n",
       "      <th></th>\n",
       "      <th>grade</th>\n",
       "      <th>sub_grade</th>\n",
       "      <th>short_emp</th>\n",
       "      <th>emp_length_num</th>\n",
       "      <th>home_ownership</th>\n",
       "      <th>dti</th>\n",
       "      <th>purpose</th>\n",
       "      <th>term</th>\n",
       "      <th>last_delinq_none</th>\n",
       "      <th>last_major_derog_none</th>\n",
       "      <th>revol_util</th>\n",
       "      <th>total_rec_late_fee</th>\n",
       "      <th>safe_loans</th>\n",
       "    </tr>\n",
       "  </thead>\n",
       "  <tbody>\n",
       "    <tr>\n",
       "      <th>1</th>\n",
       "      <td>C</td>\n",
       "      <td>C4</td>\n",
       "      <td>1</td>\n",
       "      <td>1</td>\n",
       "      <td>RENT</td>\n",
       "      <td>1.00</td>\n",
       "      <td>car</td>\n",
       "      <td>60 months</td>\n",
       "      <td>1</td>\n",
       "      <td>1</td>\n",
       "      <td>9.4</td>\n",
       "      <td>0.0</td>\n",
       "      <td>-1</td>\n",
       "    </tr>\n",
       "    <tr>\n",
       "      <th>6</th>\n",
       "      <td>F</td>\n",
       "      <td>F2</td>\n",
       "      <td>0</td>\n",
       "      <td>5</td>\n",
       "      <td>OWN</td>\n",
       "      <td>5.55</td>\n",
       "      <td>small_business</td>\n",
       "      <td>60 months</td>\n",
       "      <td>1</td>\n",
       "      <td>1</td>\n",
       "      <td>32.6</td>\n",
       "      <td>0.0</td>\n",
       "      <td>-1</td>\n",
       "    </tr>\n",
       "    <tr>\n",
       "      <th>7</th>\n",
       "      <td>B</td>\n",
       "      <td>B5</td>\n",
       "      <td>1</td>\n",
       "      <td>1</td>\n",
       "      <td>RENT</td>\n",
       "      <td>18.08</td>\n",
       "      <td>other</td>\n",
       "      <td>60 months</td>\n",
       "      <td>1</td>\n",
       "      <td>1</td>\n",
       "      <td>36.5</td>\n",
       "      <td>0.0</td>\n",
       "      <td>-1</td>\n",
       "    </tr>\n",
       "    <tr>\n",
       "      <th>10</th>\n",
       "      <td>C</td>\n",
       "      <td>C1</td>\n",
       "      <td>1</td>\n",
       "      <td>1</td>\n",
       "      <td>RENT</td>\n",
       "      <td>10.08</td>\n",
       "      <td>debt_consolidation</td>\n",
       "      <td>36 months</td>\n",
       "      <td>1</td>\n",
       "      <td>1</td>\n",
       "      <td>91.7</td>\n",
       "      <td>0.0</td>\n",
       "      <td>-1</td>\n",
       "    </tr>\n",
       "    <tr>\n",
       "      <th>12</th>\n",
       "      <td>B</td>\n",
       "      <td>B2</td>\n",
       "      <td>0</td>\n",
       "      <td>4</td>\n",
       "      <td>RENT</td>\n",
       "      <td>7.06</td>\n",
       "      <td>other</td>\n",
       "      <td>36 months</td>\n",
       "      <td>1</td>\n",
       "      <td>1</td>\n",
       "      <td>55.5</td>\n",
       "      <td>0.0</td>\n",
       "      <td>-1</td>\n",
       "    </tr>\n",
       "  </tbody>\n",
       "</table>\n",
       "</div>"
      ],
      "text/plain": [
       "   grade sub_grade  short_emp  emp_length_num home_ownership    dti  \\\n",
       "1      C        C4          1               1           RENT   1.00   \n",
       "6      F        F2          0               5            OWN   5.55   \n",
       "7      B        B5          1               1           RENT  18.08   \n",
       "10     C        C1          1               1           RENT  10.08   \n",
       "12     B        B2          0               4           RENT   7.06   \n",
       "\n",
       "               purpose        term  last_delinq_none  last_major_derog_none  \\\n",
       "1                  car   60 months                 1                      1   \n",
       "6       small_business   60 months                 1                      1   \n",
       "7                other   60 months                 1                      1   \n",
       "10  debt_consolidation   36 months                 1                      1   \n",
       "12               other   36 months                 1                      1   \n",
       "\n",
       "    revol_util  total_rec_late_fee  safe_loans  \n",
       "1          9.4                 0.0          -1  \n",
       "6         32.6                 0.0          -1  \n",
       "7         36.5                 0.0          -1  \n",
       "10        91.7                 0.0          -1  \n",
       "12        55.5                 0.0          -1  "
      ]
     },
     "execution_count": 177,
     "metadata": {},
     "output_type": "execute_result"
    }
   ],
   "source": [
    "train_data.head(n=5)"
   ]
  },
  {
   "cell_type": "code",
   "execution_count": 178,
   "metadata": {
    "collapsed": true
   },
   "outputs": [],
   "source": [
    "def work_with_data(data):\n",
    "    \n",
    "    #data[\"term\"] = data[\"term\"].astype('str')\n",
    "    #data[\"term\"] = data[\"term\"].str.replace(\" months\", \"\")\n",
    "    #data[\"term\"] = data[\"term\"].astype('int')\n",
    "    \n",
    "    data_types = data.dtypes.reset_index()\n",
    "    data_types.columns = [\"feature\", \"type\"]\n",
    "    \n",
    "    categorical_features = data_types[\"feature\"][data_types[\"type\"] == \"object\"]\n",
    "    numerical_features = data_types[\"feature\"][data_types[\"type\"] != \"object\"]\n",
    "    \n",
    "    cat_dat = data[categorical_features]\n",
    "    num_dat = data[numerical_features]\n",
    "    \n",
    "    \n",
    "    \n",
    "    for cat_feat in categorical_features:\n",
    "        \n",
    "        cat_dat_tmp = data[cat_feat].unique()\n",
    "        \n",
    "        for cd in cat_dat_tmp:\n",
    "            cat_dat[cat_feat + \"_\" + cd] = 1 * (cat_dat[cat_feat] == cd)\n",
    "        \n",
    "        del cat_dat[cat_feat]\n",
    "        \n",
    "    output = pd.concat([cat_dat, num_dat], axis =1)\n",
    "    return output"
   ]
  },
  {
   "cell_type": "code",
   "execution_count": 179,
   "metadata": {},
   "outputs": [
    {
     "name": "stderr",
     "output_type": "stream",
     "text": [
      "C:\\Users\\Witek\\Anaconda3\\lib\\site-packages\\ipykernel_launcher.py:23: SettingWithCopyWarning: \n",
      "A value is trying to be set on a copy of a slice from a DataFrame.\n",
      "Try using .loc[row_indexer,col_indexer] = value instead\n",
      "\n",
      "See the caveats in the documentation: http://pandas.pydata.org/pandas-docs/stable/indexing.html#indexing-view-versus-copy\n"
     ]
    }
   ],
   "source": [
    "train_data = work_with_data(train_data)\n",
    "validation_data = work_with_data(validation_data)"
   ]
  },
  {
   "cell_type": "code",
   "execution_count": 180,
   "metadata": {},
   "outputs": [
    {
     "data": {
      "text/plain": [
       "Index(['grade_C', 'grade_F', 'grade_B', 'grade_E', 'grade_D', 'grade_A',\n",
       "       'grade_G', 'sub_grade_C4', 'sub_grade_F2', 'sub_grade_B5',\n",
       "       'sub_grade_C1', 'sub_grade_B2', 'sub_grade_B4', 'sub_grade_B3',\n",
       "       'sub_grade_C2', 'sub_grade_B1', 'sub_grade_C5', 'sub_grade_E4',\n",
       "       'sub_grade_D3', 'sub_grade_D2', 'sub_grade_D5', 'sub_grade_A2',\n",
       "       'sub_grade_C3', 'sub_grade_A3', 'sub_grade_A5', 'sub_grade_A4',\n",
       "       'sub_grade_E1', 'sub_grade_D1', 'sub_grade_E5', 'sub_grade_D4',\n",
       "       'sub_grade_F1', 'sub_grade_E3', 'sub_grade_G2', 'sub_grade_E2',\n",
       "       'sub_grade_F5', 'sub_grade_F4', 'sub_grade_F3', 'sub_grade_G4',\n",
       "       'sub_grade_G3', 'sub_grade_G1', 'sub_grade_A1', 'sub_grade_G5',\n",
       "       'home_ownership_RENT', 'home_ownership_OWN', 'home_ownership_MORTGAGE',\n",
       "       'home_ownership_OTHER', 'purpose_car', 'purpose_small_business',\n",
       "       'purpose_other', 'purpose_debt_consolidation', 'purpose_major_purchase',\n",
       "       'purpose_credit_card', 'purpose_home_improvement', 'purpose_moving',\n",
       "       'purpose_house', 'purpose_medical', 'purpose_wedding',\n",
       "       'purpose_vacation', 'term_ 60 months', 'term_ 36 months', 'short_emp',\n",
       "       'emp_length_num', 'dti', 'last_delinq_none', 'last_major_derog_none',\n",
       "       'revol_util', 'total_rec_late_fee', 'safe_loans'],\n",
       "      dtype='object')"
      ]
     },
     "execution_count": 180,
     "metadata": {},
     "output_type": "execute_result"
    }
   ],
   "source": [
    "train_data.columns"
   ]
  },
  {
   "cell_type": "code",
   "execution_count": 181,
   "metadata": {},
   "outputs": [
    {
     "data": {
      "text/html": [
       "<div>\n",
       "<style>\n",
       "    .dataframe thead tr:only-child th {\n",
       "        text-align: right;\n",
       "    }\n",
       "\n",
       "    .dataframe thead th {\n",
       "        text-align: left;\n",
       "    }\n",
       "\n",
       "    .dataframe tbody tr th {\n",
       "        vertical-align: top;\n",
       "    }\n",
       "</style>\n",
       "<table border=\"1\" class=\"dataframe\">\n",
       "  <thead>\n",
       "    <tr style=\"text-align: right;\">\n",
       "      <th></th>\n",
       "      <th>grade_C</th>\n",
       "      <th>grade_F</th>\n",
       "      <th>grade_B</th>\n",
       "      <th>grade_E</th>\n",
       "      <th>grade_D</th>\n",
       "      <th>grade_A</th>\n",
       "      <th>grade_G</th>\n",
       "      <th>sub_grade_C4</th>\n",
       "      <th>sub_grade_F2</th>\n",
       "      <th>sub_grade_B5</th>\n",
       "      <th>...</th>\n",
       "      <th>term_ 60 months</th>\n",
       "      <th>term_ 36 months</th>\n",
       "      <th>short_emp</th>\n",
       "      <th>emp_length_num</th>\n",
       "      <th>dti</th>\n",
       "      <th>last_delinq_none</th>\n",
       "      <th>last_major_derog_none</th>\n",
       "      <th>revol_util</th>\n",
       "      <th>total_rec_late_fee</th>\n",
       "      <th>safe_loans</th>\n",
       "    </tr>\n",
       "  </thead>\n",
       "  <tbody>\n",
       "    <tr>\n",
       "      <th>1</th>\n",
       "      <td>1</td>\n",
       "      <td>0</td>\n",
       "      <td>0</td>\n",
       "      <td>0</td>\n",
       "      <td>0</td>\n",
       "      <td>0</td>\n",
       "      <td>0</td>\n",
       "      <td>1</td>\n",
       "      <td>0</td>\n",
       "      <td>0</td>\n",
       "      <td>...</td>\n",
       "      <td>1</td>\n",
       "      <td>0</td>\n",
       "      <td>1</td>\n",
       "      <td>1</td>\n",
       "      <td>1.00</td>\n",
       "      <td>1</td>\n",
       "      <td>1</td>\n",
       "      <td>9.4</td>\n",
       "      <td>0.0</td>\n",
       "      <td>-1</td>\n",
       "    </tr>\n",
       "    <tr>\n",
       "      <th>6</th>\n",
       "      <td>0</td>\n",
       "      <td>1</td>\n",
       "      <td>0</td>\n",
       "      <td>0</td>\n",
       "      <td>0</td>\n",
       "      <td>0</td>\n",
       "      <td>0</td>\n",
       "      <td>0</td>\n",
       "      <td>1</td>\n",
       "      <td>0</td>\n",
       "      <td>...</td>\n",
       "      <td>1</td>\n",
       "      <td>0</td>\n",
       "      <td>0</td>\n",
       "      <td>5</td>\n",
       "      <td>5.55</td>\n",
       "      <td>1</td>\n",
       "      <td>1</td>\n",
       "      <td>32.6</td>\n",
       "      <td>0.0</td>\n",
       "      <td>-1</td>\n",
       "    </tr>\n",
       "    <tr>\n",
       "      <th>7</th>\n",
       "      <td>0</td>\n",
       "      <td>0</td>\n",
       "      <td>1</td>\n",
       "      <td>0</td>\n",
       "      <td>0</td>\n",
       "      <td>0</td>\n",
       "      <td>0</td>\n",
       "      <td>0</td>\n",
       "      <td>0</td>\n",
       "      <td>1</td>\n",
       "      <td>...</td>\n",
       "      <td>1</td>\n",
       "      <td>0</td>\n",
       "      <td>1</td>\n",
       "      <td>1</td>\n",
       "      <td>18.08</td>\n",
       "      <td>1</td>\n",
       "      <td>1</td>\n",
       "      <td>36.5</td>\n",
       "      <td>0.0</td>\n",
       "      <td>-1</td>\n",
       "    </tr>\n",
       "    <tr>\n",
       "      <th>10</th>\n",
       "      <td>1</td>\n",
       "      <td>0</td>\n",
       "      <td>0</td>\n",
       "      <td>0</td>\n",
       "      <td>0</td>\n",
       "      <td>0</td>\n",
       "      <td>0</td>\n",
       "      <td>0</td>\n",
       "      <td>0</td>\n",
       "      <td>0</td>\n",
       "      <td>...</td>\n",
       "      <td>0</td>\n",
       "      <td>1</td>\n",
       "      <td>1</td>\n",
       "      <td>1</td>\n",
       "      <td>10.08</td>\n",
       "      <td>1</td>\n",
       "      <td>1</td>\n",
       "      <td>91.7</td>\n",
       "      <td>0.0</td>\n",
       "      <td>-1</td>\n",
       "    </tr>\n",
       "    <tr>\n",
       "      <th>12</th>\n",
       "      <td>0</td>\n",
       "      <td>0</td>\n",
       "      <td>1</td>\n",
       "      <td>0</td>\n",
       "      <td>0</td>\n",
       "      <td>0</td>\n",
       "      <td>0</td>\n",
       "      <td>0</td>\n",
       "      <td>0</td>\n",
       "      <td>0</td>\n",
       "      <td>...</td>\n",
       "      <td>0</td>\n",
       "      <td>1</td>\n",
       "      <td>0</td>\n",
       "      <td>4</td>\n",
       "      <td>7.06</td>\n",
       "      <td>1</td>\n",
       "      <td>1</td>\n",
       "      <td>55.5</td>\n",
       "      <td>0.0</td>\n",
       "      <td>-1</td>\n",
       "    </tr>\n",
       "  </tbody>\n",
       "</table>\n",
       "<p>5 rows × 68 columns</p>\n",
       "</div>"
      ],
      "text/plain": [
       "    grade_C  grade_F  grade_B  grade_E  grade_D  grade_A  grade_G  \\\n",
       "1         1        0        0        0        0        0        0   \n",
       "6         0        1        0        0        0        0        0   \n",
       "7         0        0        1        0        0        0        0   \n",
       "10        1        0        0        0        0        0        0   \n",
       "12        0        0        1        0        0        0        0   \n",
       "\n",
       "    sub_grade_C4  sub_grade_F2  sub_grade_B5     ...      term_ 60 months  \\\n",
       "1              1             0             0     ...                    1   \n",
       "6              0             1             0     ...                    1   \n",
       "7              0             0             1     ...                    1   \n",
       "10             0             0             0     ...                    0   \n",
       "12             0             0             0     ...                    0   \n",
       "\n",
       "    term_ 36 months  short_emp  emp_length_num    dti  last_delinq_none  \\\n",
       "1                 0          1               1   1.00                 1   \n",
       "6                 0          0               5   5.55                 1   \n",
       "7                 0          1               1  18.08                 1   \n",
       "10                1          1               1  10.08                 1   \n",
       "12                1          0               4   7.06                 1   \n",
       "\n",
       "    last_major_derog_none  revol_util  total_rec_late_fee  safe_loans  \n",
       "1                       1         9.4                 0.0          -1  \n",
       "6                       1        32.6                 0.0          -1  \n",
       "7                       1        36.5                 0.0          -1  \n",
       "10                      1        91.7                 0.0          -1  \n",
       "12                      1        55.5                 0.0          -1  \n",
       "\n",
       "[5 rows x 68 columns]"
      ]
     },
     "execution_count": 181,
     "metadata": {},
     "output_type": "execute_result"
    }
   ],
   "source": [
    "train_data.head(n=5)"
   ]
  },
  {
   "cell_type": "markdown",
   "metadata": {},
   "source": [
    "9)"
   ]
  },
  {
   "cell_type": "code",
   "execution_count": 182,
   "metadata": {
    "collapsed": true
   },
   "outputs": [],
   "source": [
    "import sklearn, sklearn.tree\n",
    "#import graphviz"
   ]
  },
  {
   "cell_type": "code",
   "execution_count": 183,
   "metadata": {
    "collapsed": true
   },
   "outputs": [],
   "source": [
    "from __future__ import print_function"
   ]
  },
  {
   "cell_type": "code",
   "execution_count": 184,
   "metadata": {
    "collapsed": true
   },
   "outputs": [],
   "source": [
    "train_target = train_data[target].values\n",
    "train_features = train_data.copy()\n",
    "del train_features[target]\n",
    "train_features = train_features.values"
   ]
  },
  {
   "cell_type": "code",
   "execution_count": 185,
   "metadata": {
    "collapsed": true
   },
   "outputs": [],
   "source": [
    "validation_target = validation_data[target].values\n",
    "validation_features = validation_data.copy()\n",
    "del validation_features[target]\n",
    "validation_features = validation_features.values"
   ]
  },
  {
   "cell_type": "code",
   "execution_count": 186,
   "metadata": {
    "collapsed": true
   },
   "outputs": [],
   "source": [
    "decision_tree_model = sklearn.tree.DecisionTreeClassifier(max_depth = 6)\n",
    "small_model = sklearn.tree.DecisionTreeClassifier(max_depth = 2)"
   ]
  },
  {
   "cell_type": "code",
   "execution_count": 187,
   "metadata": {},
   "outputs": [
    {
     "data": {
      "text/plain": [
       "DecisionTreeClassifier(class_weight=None, criterion='gini', max_depth=2,\n",
       "            max_features=None, max_leaf_nodes=None,\n",
       "            min_impurity_split=1e-07, min_samples_leaf=1,\n",
       "            min_samples_split=2, min_weight_fraction_leaf=0.0,\n",
       "            presort=False, random_state=None, splitter='best')"
      ]
     },
     "execution_count": 187,
     "metadata": {},
     "output_type": "execute_result"
    }
   ],
   "source": [
    "decision_tree_model.fit(train_features, train_target)\n",
    "small_model.fit(train_features, train_target)"
   ]
  },
  {
   "cell_type": "markdown",
   "metadata": {},
   "source": [
    "11)"
   ]
  },
  {
   "cell_type": "code",
   "execution_count": 188,
   "metadata": {},
   "outputs": [
    {
     "data": {
      "text/html": [
       "<div>\n",
       "<style>\n",
       "    .dataframe thead tr:only-child th {\n",
       "        text-align: right;\n",
       "    }\n",
       "\n",
       "    .dataframe thead th {\n",
       "        text-align: left;\n",
       "    }\n",
       "\n",
       "    .dataframe tbody tr th {\n",
       "        vertical-align: top;\n",
       "    }\n",
       "</style>\n",
       "<table border=\"1\" class=\"dataframe\">\n",
       "  <thead>\n",
       "    <tr style=\"text-align: right;\">\n",
       "      <th></th>\n",
       "      <th>grade_D</th>\n",
       "      <th>grade_A</th>\n",
       "      <th>grade_F</th>\n",
       "      <th>grade_B</th>\n",
       "      <th>grade_C</th>\n",
       "      <th>grade_E</th>\n",
       "      <th>grade_G</th>\n",
       "      <th>sub_grade_D2</th>\n",
       "      <th>sub_grade_A5</th>\n",
       "      <th>sub_grade_F2</th>\n",
       "      <th>...</th>\n",
       "      <th>term_ 60 months</th>\n",
       "      <th>term_ 36 months</th>\n",
       "      <th>short_emp</th>\n",
       "      <th>emp_length_num</th>\n",
       "      <th>dti</th>\n",
       "      <th>last_delinq_none</th>\n",
       "      <th>last_major_derog_none</th>\n",
       "      <th>revol_util</th>\n",
       "      <th>total_rec_late_fee</th>\n",
       "      <th>safe_loans</th>\n",
       "    </tr>\n",
       "  </thead>\n",
       "  <tbody>\n",
       "    <tr>\n",
       "      <th>19</th>\n",
       "      <td>0</td>\n",
       "      <td>0</td>\n",
       "      <td>0</td>\n",
       "      <td>1</td>\n",
       "      <td>0</td>\n",
       "      <td>0</td>\n",
       "      <td>0</td>\n",
       "      <td>0</td>\n",
       "      <td>0</td>\n",
       "      <td>0</td>\n",
       "      <td>...</td>\n",
       "      <td>0</td>\n",
       "      <td>1</td>\n",
       "      <td>0</td>\n",
       "      <td>11</td>\n",
       "      <td>11.18</td>\n",
       "      <td>1</td>\n",
       "      <td>1</td>\n",
       "      <td>82.4</td>\n",
       "      <td>0.0</td>\n",
       "      <td>1</td>\n",
       "    </tr>\n",
       "    <tr>\n",
       "      <th>79</th>\n",
       "      <td>1</td>\n",
       "      <td>0</td>\n",
       "      <td>0</td>\n",
       "      <td>0</td>\n",
       "      <td>0</td>\n",
       "      <td>0</td>\n",
       "      <td>0</td>\n",
       "      <td>0</td>\n",
       "      <td>0</td>\n",
       "      <td>0</td>\n",
       "      <td>...</td>\n",
       "      <td>0</td>\n",
       "      <td>1</td>\n",
       "      <td>0</td>\n",
       "      <td>10</td>\n",
       "      <td>16.85</td>\n",
       "      <td>1</td>\n",
       "      <td>1</td>\n",
       "      <td>96.4</td>\n",
       "      <td>0.0</td>\n",
       "      <td>1</td>\n",
       "    </tr>\n",
       "    <tr>\n",
       "      <th>24</th>\n",
       "      <td>1</td>\n",
       "      <td>0</td>\n",
       "      <td>0</td>\n",
       "      <td>0</td>\n",
       "      <td>0</td>\n",
       "      <td>0</td>\n",
       "      <td>0</td>\n",
       "      <td>1</td>\n",
       "      <td>0</td>\n",
       "      <td>0</td>\n",
       "      <td>...</td>\n",
       "      <td>1</td>\n",
       "      <td>0</td>\n",
       "      <td>0</td>\n",
       "      <td>3</td>\n",
       "      <td>13.97</td>\n",
       "      <td>0</td>\n",
       "      <td>1</td>\n",
       "      <td>59.5</td>\n",
       "      <td>0.0</td>\n",
       "      <td>-1</td>\n",
       "    </tr>\n",
       "    <tr>\n",
       "      <th>41</th>\n",
       "      <td>0</td>\n",
       "      <td>1</td>\n",
       "      <td>0</td>\n",
       "      <td>0</td>\n",
       "      <td>0</td>\n",
       "      <td>0</td>\n",
       "      <td>0</td>\n",
       "      <td>0</td>\n",
       "      <td>1</td>\n",
       "      <td>0</td>\n",
       "      <td>...</td>\n",
       "      <td>0</td>\n",
       "      <td>1</td>\n",
       "      <td>0</td>\n",
       "      <td>11</td>\n",
       "      <td>16.33</td>\n",
       "      <td>1</td>\n",
       "      <td>1</td>\n",
       "      <td>62.1</td>\n",
       "      <td>0.0</td>\n",
       "      <td>-1</td>\n",
       "    </tr>\n",
       "  </tbody>\n",
       "</table>\n",
       "<p>4 rows × 68 columns</p>\n",
       "</div>"
      ],
      "text/plain": [
       "    grade_D  grade_A  grade_F  grade_B  grade_C  grade_E  grade_G  \\\n",
       "19        0        0        0        1        0        0        0   \n",
       "79        1        0        0        0        0        0        0   \n",
       "24        1        0        0        0        0        0        0   \n",
       "41        0        1        0        0        0        0        0   \n",
       "\n",
       "    sub_grade_D2  sub_grade_A5  sub_grade_F2     ...      term_ 60 months  \\\n",
       "19             0             0             0     ...                    0   \n",
       "79             0             0             0     ...                    0   \n",
       "24             1             0             0     ...                    1   \n",
       "41             0             1             0     ...                    0   \n",
       "\n",
       "    term_ 36 months  short_emp  emp_length_num    dti  last_delinq_none  \\\n",
       "19                1          0              11  11.18                 1   \n",
       "79                1          0              10  16.85                 1   \n",
       "24                0          0               3  13.97                 0   \n",
       "41                1          0              11  16.33                 1   \n",
       "\n",
       "    last_major_derog_none  revol_util  total_rec_late_fee  safe_loans  \n",
       "19                      1        82.4                 0.0           1  \n",
       "79                      1        96.4                 0.0           1  \n",
       "24                      1        59.5                 0.0          -1  \n",
       "41                      1        62.1                 0.0          -1  \n",
       "\n",
       "[4 rows x 68 columns]"
      ]
     },
     "execution_count": 188,
     "metadata": {},
     "output_type": "execute_result"
    }
   ],
   "source": [
    "validation_safe_loans = validation_data[validation_data[target] == 1]\n",
    "validation_risky_loans = validation_data[validation_data[target] == -1]\n",
    "\n",
    "sample_validation_data_risky = validation_risky_loans[0:2]\n",
    "sample_validation_data_safe = validation_safe_loans[0:2]\n",
    "\n",
    "sample_validation_data = sample_validation_data_safe.append(sample_validation_data_risky)\n",
    "sample_validation_data"
   ]
  },
  {
   "cell_type": "code",
   "execution_count": 189,
   "metadata": {
    "collapsed": true
   },
   "outputs": [],
   "source": [
    "del sample_validation_data[\"safe_loans\"]"
   ]
  },
  {
   "cell_type": "code",
   "execution_count": 190,
   "metadata": {},
   "outputs": [
    {
     "name": "stdout",
     "output_type": "stream",
     "text": [
      "[-1  1 -1 -1]\n",
      "[-1 -1 -1 -1]\n"
     ]
    }
   ],
   "source": [
    "print(decision_tree_model.predict(sample_validation_data))\n",
    "print(small_model.predict(sample_validation_data))"
   ]
  },
  {
   "cell_type": "code",
   "execution_count": 191,
   "metadata": {},
   "outputs": [
    {
     "name": "stdout",
     "output_type": "stream",
     "text": [
      "[[ 0.5363  0.4637]\n",
      " [ 0.4441  0.5559]\n",
      " [ 0.5404  0.4596]\n",
      " [ 0.5363  0.4637]]\n",
      "[[ 0.5926  0.4074]\n",
      " [ 0.5926  0.4074]\n",
      " [ 0.5926  0.4074]\n",
      " [ 0.5926  0.4074]]\n"
     ]
    }
   ],
   "source": [
    "print(decision_tree_model.predict_proba(sample_validation_data))\n",
    "print(small_model.predict_proba(sample_validation_data))"
   ]
  },
  {
   "cell_type": "code",
   "execution_count": 192,
   "metadata": {},
   "outputs": [],
   "source": [
    "predicted_validation_model = decision_tree_model.predict(validation_features)\n",
    "predicted_validation_small_model = small_model.predict(validation_features)"
   ]
  },
  {
   "cell_type": "code",
   "execution_count": 193,
   "metadata": {},
   "outputs": [
    {
     "name": "stdout",
     "output_type": "stream",
     "text": [
      "0.469625161568\n",
      "0.454868591125\n"
     ]
    }
   ],
   "source": [
    "print(sum(predicted_validation_model == validation_target) / predicted_validation_model.shape[0])\n",
    "print(sum(predicted_validation_small_model == validation_target) / predicted_validation_small_model.shape[0])"
   ]
  },
  {
   "cell_type": "code",
   "execution_count": 194,
   "metadata": {},
   "outputs": [
    {
     "data": {
      "text/plain": [
       "array([[ 0.5404,  0.4596],\n",
       "       [ 0.6475,  0.3525],\n",
       "       [ 0.5317,  0.4683],\n",
       "       ..., \n",
       "       [ 0.2079,  0.7921],\n",
       "       [ 0.7291,  0.2709],\n",
       "       [ 0.5363,  0.4637]])"
      ]
     },
     "execution_count": 194,
     "metadata": {},
     "output_type": "execute_result"
    }
   ],
   "source": [
    "decision_tree_model.predict_proba(train_features)"
   ]
  },
  {
   "cell_type": "code",
   "execution_count": 195,
   "metadata": {},
   "outputs": [
    {
     "data": {
      "text/plain": [
       "array([[ 0.5926,  0.4074],\n",
       "       [ 0.5926,  0.4074],\n",
       "       [ 0.419 ,  0.581 ],\n",
       "       ..., \n",
       "       [ 0.2312,  0.7688],\n",
       "       [ 0.5926,  0.4074],\n",
       "       [ 0.5926,  0.4074]])"
      ]
     },
     "execution_count": 195,
     "metadata": {},
     "output_type": "execute_result"
    }
   ],
   "source": [
    "small_model.predict_proba(train_features)"
   ]
  },
  {
   "cell_type": "markdown",
   "metadata": {},
   "source": [
    "15)\n",
    "Answer few lines above"
   ]
  },
  {
   "cell_type": "markdown",
   "metadata": {},
   "source": [
    "16, 17)"
   ]
  },
  {
   "cell_type": "code",
   "execution_count": 196,
   "metadata": {},
   "outputs": [
    {
     "name": "stdout",
     "output_type": "stream",
     "text": [
      "0.640527616591\n",
      "0.613502041694\n"
     ]
    }
   ],
   "source": [
    "print(decision_tree_model.score(train_features, train_target))\n",
    "print(small_model.score(train_features, train_target))"
   ]
  },
  {
   "cell_type": "code",
   "execution_count": 197,
   "metadata": {},
   "outputs": [
    {
     "name": "stdout",
     "output_type": "stream",
     "text": [
      "0.469625161568\n",
      "0.454868591125\n"
     ]
    }
   ],
   "source": [
    "print(decision_tree_model.score(validation_features, validation_target))\n",
    "print(small_model.score(validation_features, validation_target))"
   ]
  },
  {
   "cell_type": "markdown",
   "metadata": {},
   "source": [
    "18)"
   ]
  },
  {
   "cell_type": "code",
   "execution_count": 203,
   "metadata": {},
   "outputs": [
    {
     "data": {
      "text/plain": [
       "DecisionTreeClassifier(class_weight=None, criterion='gini', max_depth=20,\n",
       "            max_features=None, max_leaf_nodes=None,\n",
       "            min_impurity_split=1e-07, min_samples_leaf=1,\n",
       "            min_samples_split=2, min_weight_fraction_leaf=0.0,\n",
       "            presort=False, random_state=None, splitter='best')"
      ]
     },
     "execution_count": 203,
     "metadata": {},
     "output_type": "execute_result"
    }
   ],
   "source": [
    "large_model = sklearn.tree.DecisionTreeClassifier(max_depth = 20)\n",
    "large_model.fit(train_features, train_target)"
   ]
  },
  {
   "cell_type": "code",
   "execution_count": 204,
   "metadata": {},
   "outputs": [
    {
     "name": "stdout",
     "output_type": "stream",
     "text": [
      "0.855818826564\n",
      "0.498599741491\n"
     ]
    }
   ],
   "source": [
    "print(large_model.score(train_features, train_target))\n",
    "print(large_model.score(validation_features, validation_target))"
   ]
  },
  {
   "cell_type": "markdown",
   "metadata": {},
   "source": [
    "19)"
   ]
  },
  {
   "cell_type": "code",
   "execution_count": 205,
   "metadata": {
    "collapsed": true
   },
   "outputs": [],
   "source": [
    "def cost_of_prediction(model, costs, data_feature, data_target):\n",
    "    \n",
    "    #costs[0] - cost of false positive\n",
    "    #costs[1] - cost of false negative\n",
    "    \n",
    "    print(\"model accuracy is \" + str(model.score(data_feature, data_target)))\n",
    "    \n",
    "    model_prediction = model.predict(data_feature)\n",
    "    false_positive = sum((model_prediction == 1) & (data_target == -1))\n",
    "    false_negative = sum((model_prediction == -1) & (data_target == 1))\n",
    "    \n",
    "    print(\"false_positive is \" + str(false_positive) + \" and the cost is \" + \n",
    "          str(false_positive * costs[0]))\n",
    "    print(\"false_negative is \" + str(false_negative) + \" and the cost is \" + \n",
    "          str(false_negative * costs[1]))\n",
    "    print(\"overall cost is \" + str(false_positive * costs[0] + false_negative * costs[1]))"
   ]
  },
  {
   "cell_type": "code",
   "execution_count": 206,
   "metadata": {
    "collapsed": true
   },
   "outputs": [],
   "source": [
    "costs = [20000, 10000]"
   ]
  },
  {
   "cell_type": "code",
   "execution_count": 207,
   "metadata": {},
   "outputs": [
    {
     "name": "stdout",
     "output_type": "stream",
     "text": [
      "model accuracy is 0.454868591125\n",
      "false_positive is 858 and the cost is 17160000\n",
      "false_negative is 4203 and the cost is 42030000\n",
      "overall cost is 59190000\n"
     ]
    }
   ],
   "source": [
    "cost_of_prediction(small_model, costs, validation_features, validation_target)"
   ]
  },
  {
   "cell_type": "code",
   "execution_count": 208,
   "metadata": {},
   "outputs": [
    {
     "name": "stdout",
     "output_type": "stream",
     "text": [
      "model accuracy is 0.469625161568\n",
      "false_positive is 921 and the cost is 18420000\n",
      "false_negative is 4003 and the cost is 40030000\n",
      "overall cost is 58450000\n"
     ]
    }
   ],
   "source": [
    "cost_of_prediction(decision_tree_model, costs, validation_features, validation_target)"
   ]
  },
  {
   "cell_type": "code",
   "execution_count": 209,
   "metadata": {},
   "outputs": [
    {
     "name": "stdout",
     "output_type": "stream",
     "text": [
      "model accuracy is 0.498599741491\n",
      "false_positive is 1430 and the cost is 28600000\n",
      "false_negative is 3225 and the cost is 32250000\n",
      "overall cost is 60850000\n"
     ]
    }
   ],
   "source": [
    "cost_of_prediction(large_model, costs, validation_features, validation_target)"
   ]
  },
  {
   "cell_type": "code",
   "execution_count": null,
   "metadata": {
    "collapsed": true
   },
   "outputs": [],
   "source": []
  }
 ],
 "metadata": {
  "kernelspec": {
   "display_name": "Python 3",
   "language": "python",
   "name": "python3"
  },
  "language_info": {
   "codemirror_mode": {
    "name": "ipython",
    "version": 3
   },
   "file_extension": ".py",
   "mimetype": "text/x-python",
   "name": "python",
   "nbconvert_exporter": "python",
   "pygments_lexer": "ipython3",
   "version": "3.6.1"
  }
 },
 "nbformat": 4,
 "nbformat_minor": 2
}
