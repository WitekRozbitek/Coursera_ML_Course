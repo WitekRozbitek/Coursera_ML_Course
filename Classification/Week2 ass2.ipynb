{
 "cells": [
  {
   "cell_type": "code",
   "execution_count": 1,
   "metadata": {
    "collapsed": true
   },
   "outputs": [],
   "source": [
    "%matplotlib inline\n",
    "import pandas as pd\n",
    "import matplotlib.pyplot as plt\n",
    "import numpy as np\n",
    "import string\n",
    "\n",
    "import math\n",
    "import json\n",
    "from sklearn.feature_extraction.text import CountVectorizer"
   ]
  },
  {
   "cell_type": "code",
   "execution_count": 2,
   "metadata": {
    "collapsed": true
   },
   "outputs": [],
   "source": [
    "products = pd.read_csv(\"./amazon_baby_subset.csv\")"
   ]
  },
  {
   "cell_type": "code",
   "execution_count": 3,
   "metadata": {
    "collapsed": true
   },
   "outputs": [],
   "source": [
    "with open('./important_words.json') as data_file:    \n",
    "    important_words = json.load(data_file)"
   ]
  },
  {
   "cell_type": "code",
   "execution_count": 4,
   "metadata": {
    "collapsed": true
   },
   "outputs": [],
   "source": [
    "with open('./module-4-assignment-train-idx.json') as data_file:    \n",
    "    train = json.load(data_file)\n",
    "    \n",
    "with open('./module-4-assignment-validation-idx.json') as data_file:    \n",
    "    validate = json.load(data_file)"
   ]
  },
  {
   "cell_type": "code",
   "execution_count": 5,
   "metadata": {
    "collapsed": true
   },
   "outputs": [],
   "source": [
    "products_train = products.loc[train]\n",
    "products_validate = products.loc[validate]"
   ]
  },
  {
   "cell_type": "code",
   "execution_count": 6,
   "metadata": {
    "collapsed": true
   },
   "outputs": [],
   "source": [
    "products = products.fillna({\"review\": \"\"})\n",
    "products_train = products_train.fillna({\"review\": \"\"})\n",
    "products_validate = products_validate.fillna({\"review\": \"\"})"
   ]
  },
  {
   "cell_type": "code",
   "execution_count": 7,
   "metadata": {
    "collapsed": true
   },
   "outputs": [],
   "source": [
    "translator = str.maketrans('','', string.punctuation)\n",
    "products[\"review\"] = products[\"review\"].astype(str)\n",
    "products_train[\"review\"] = products_train[\"review\"].astype(str)\n",
    "products_validate[\"review\"] = products_validate[\"review\"].astype(str)\n",
    "\n",
    "def normalize_string(x):\n",
    "    x = x.str.translate(translator)\n",
    "    x = x.str.lower()\n",
    "    \n",
    "    return x"
   ]
  },
  {
   "cell_type": "code",
   "execution_count": 8,
   "metadata": {
    "collapsed": true
   },
   "outputs": [],
   "source": [
    "products[\"review_clean\"] = normalize_string(products[\"review\"])\n",
    "products_train[\"review_clean\"] = normalize_string(products_train[\"review\"])\n",
    "products_validate[\"review_clean\"] = normalize_string(products_validate[\"review\"])"
   ]
  },
  {
   "cell_type": "code",
   "execution_count": 9,
   "metadata": {
    "collapsed": true
   },
   "outputs": [],
   "source": [
    "vectorizer_word_subset = CountVectorizer(vocabulary = important_words)\n",
    "train_matrix_word_subset = vectorizer_word_subset.fit_transform(products_train['review_clean'])\n",
    "validate_matrix_word_subset = vectorizer_word_subset.transform(products_validate['review_clean'])"
   ]
  },
  {
   "cell_type": "code",
   "execution_count": null,
   "metadata": {
    "collapsed": true
   },
   "outputs": [],
   "source": []
  },
  {
   "cell_type": "code",
   "execution_count": 10,
   "metadata": {
    "collapsed": true
   },
   "outputs": [],
   "source": [
    "from scipy.sparse import hstack, coo_matrix"
   ]
  },
  {
   "cell_type": "code",
   "execution_count": 11,
   "metadata": {
    "collapsed": true
   },
   "outputs": [],
   "source": [
    "def get_numpy_data(dataframe, features, label):\n",
    "    \n",
    "    ones = coo_matrix(coo_matrix((dataframe.shape[0], 1), dtype=np.int8).toarray() + 1)\n",
    "    feature_matrix = hstack([ones, dataframe])\n",
    "\n",
    "    features = [\"constant\"] + features\n",
    "    \n",
    "    return (feature_matrix, features)"
   ]
  },
  {
   "cell_type": "code",
   "execution_count": null,
   "metadata": {
    "collapsed": true
   },
   "outputs": [],
   "source": [
    "feature_matrix_train, sentiment_train = get_numpy_data(train_matrix_word_subset, important_words, \"sentiment\")\n",
    "feature_matrix_valid, sentiment_valid = get_numpy_data(validate_matrix_word_subset, important_words, \"sentiment\")"
   ]
  },
  {
   "cell_type": "markdown",
   "metadata": {},
   "source": [
    "7)"
   ]
  },
  {
   "cell_type": "markdown",
   "metadata": {},
   "source": [
    "Some problems with sparse data... back to numpy"
   ]
  },
  {
   "cell_type": "code",
   "execution_count": 10,
   "metadata": {
    "collapsed": true
   },
   "outputs": [],
   "source": [
    "for word in important_words:\n",
    "    products_train[word] = products_train[\"review_clean\"].apply(lambda x: x.split().count(word))"
   ]
  },
  {
   "cell_type": "code",
   "execution_count": 11,
   "metadata": {
    "collapsed": true
   },
   "outputs": [],
   "source": [
    "for word in important_words:\n",
    "    products_validate[word] = products_validate[\"review_clean\"].apply(lambda x: x.split().count(word))"
   ]
  },
  {
   "cell_type": "code",
   "execution_count": 12,
   "metadata": {
    "collapsed": true
   },
   "outputs": [],
   "source": [
    "def get_numpy_data(dataframe, features, label):\n",
    "    \n",
    "    dataframe[\"constant\"] = 1\n",
    "    features = [\"constant\"] + features\n",
    "    \n",
    "    feature_matrix = dataframe[features].as_matrix()\n",
    "    label_array = dataframe[label].as_matrix()\n",
    "    return (feature_matrix, label_array)"
   ]
  },
  {
   "cell_type": "code",
   "execution_count": 13,
   "metadata": {
    "collapsed": true
   },
   "outputs": [],
   "source": [
    "feature_matrix_train, sentiment_train = get_numpy_data(products_train, important_words, \"sentiment\")\n",
    "feature_matrix_valid, sentiment_valid = get_numpy_data(products_validate, important_words, \"sentiment\")"
   ]
  },
  {
   "cell_type": "code",
   "execution_count": 14,
   "metadata": {},
   "outputs": [
    {
     "data": {
      "text/plain": [
       "array([[1, 0, 0, ..., 0, 0, 0],\n",
       "       [1, 0, 0, ..., 0, 0, 0],\n",
       "       [1, 0, 1, ..., 0, 0, 0],\n",
       "       ..., \n",
       "       [1, 1, 0, ..., 0, 0, 0],\n",
       "       [1, 0, 1, ..., 0, 0, 0],\n",
       "       [1, 0, 1, ..., 0, 0, 0]], dtype=int64)"
      ]
     },
     "execution_count": 14,
     "metadata": {},
     "output_type": "execute_result"
    }
   ],
   "source": [
    "feature_matrix_train"
   ]
  },
  {
   "cell_type": "code",
   "execution_count": 15,
   "metadata": {
    "collapsed": true
   },
   "outputs": [],
   "source": [
    "def predict_probability(feature_matrix, coefficients):\n",
    "    score = np.dot(feature_matrix,coefficients)\n",
    "    \n",
    "    predictions = 1/(1 + np.exp(-score))\n",
    "    \n",
    "    return predictions"
   ]
  },
  {
   "cell_type": "code",
   "execution_count": 16,
   "metadata": {},
   "outputs": [
    {
     "data": {
      "text/plain": [
       "array([ 0.5,  0.5,  0.5, ...,  0.5,  0.5,  0.5])"
      ]
     },
     "execution_count": 16,
     "metadata": {},
     "output_type": "execute_result"
    }
   ],
   "source": [
    "predict_probability(feature_matrix_train, np.array([0] * 194))"
   ]
  },
  {
   "cell_type": "code",
   "execution_count": 17,
   "metadata": {
    "collapsed": true
   },
   "outputs": [],
   "source": [
    "def feature_derivative(errors, feature):\n",
    "    return np.dot(errors, feature)"
   ]
  },
  {
   "cell_type": "code",
   "execution_count": 18,
   "metadata": {
    "collapsed": true
   },
   "outputs": [],
   "source": [
    "def feature_derivative_L2penalty(errors, feature, coefficient, L2_pentalty):\n",
    "    derivative = np.dot(errors, feature)\n",
    "    derivative -= 2 * L2_pentalty * coefficient \n",
    "    \n",
    "    return derivative"
   ]
  },
  {
   "cell_type": "code",
   "execution_count": 19,
   "metadata": {
    "collapsed": true
   },
   "outputs": [],
   "source": [
    "def compute_log_likelihood_L2penalty(feature_matrix, sentiment, coefficients, L2_pentalty):\n",
    "    \n",
    "    indicator = (sentiment == 1)\n",
    "    scores = np.dot(feature_matrix, coefficients)\n",
    "    \n",
    "    lp = np.sum((indicator - 1) * scores - np.log(1 + np.exp(-scores)))\n",
    "    lp -= L2_pentalty * np.sum(coefficients[1:] ** 2)\n",
    "    \n",
    "    return lp"
   ]
  },
  {
   "cell_type": "code",
   "execution_count": 20,
   "metadata": {
    "collapsed": true
   },
   "outputs": [],
   "source": [
    "def logistic_regression_withL2(feature_matrix, sentiment, initial_coeffs, \n",
    "                        step_size, max_iter, L2_pentalty) :\n",
    "    \n",
    "    coeffs = np.array(initial_coeffs)\n",
    "    iteration = 0\n",
    "    \n",
    "    while iteration < max_iter:\n",
    "        \n",
    "        predictions = predict_probability(feature_matrix, coeffs)\n",
    "        indicator = 1* (sentiment == 1)\n",
    "        errors = indicator - predictions\n",
    "        \n",
    "        for i in range(len(coeffs)):\n",
    "            \n",
    "            if i == 0:\n",
    "                derivative = feature_derivative(errors, feature_matrix[:,i])\n",
    "            else :\n",
    "                derivative = feature_derivative_L2penalty(errors, feature_matrix[:,i],\n",
    "                                                         coeffs[i], L2_pentalty)\n",
    "                    \n",
    "            \n",
    "            coeffs[i] += step_size * derivative\n",
    "        \n",
    "        iteration += 1\n",
    "        \n",
    "        if iteration <= 15 or (iteration <= 100 and iteration % 10 == 0) or (iteration <= 1000 and iteration % 100 == 0) \\\n",
    "        or (iteration <= 10000 and iteration % 1000 == 0) or iteration % 10000 == 0:\n",
    "            lp = compute_log_likelihood_L2penalty(feature_matrix, sentiment, coeffs, L2_pentalty)\n",
    "            print ('iteration %*d: log likelihood of observed labels = %.8f' % (int(np.ceil(np.log10(max_iter))), iteration, lp))\n",
    "        \n",
    "    return coeffs"
   ]
  },
  {
   "cell_type": "code",
   "execution_count": 21,
   "metadata": {
    "collapsed": true
   },
   "outputs": [],
   "source": [
    "fm = feature_matrix_train\n",
    "st = sentiment_train\n",
    "initial_coeffs = np.array([0.0] * feature_matrix_train.shape[1]) #np.zeros(194)\n",
    "step_size = 5e-6\n",
    "max_iter = 501\n",
    "L2_pentalty = [4,10,1e2,1e3,1e5]"
   ]
  },
  {
   "cell_type": "code",
   "execution_count": 22,
   "metadata": {},
   "outputs": [
    {
     "name": "stdout",
     "output_type": "stream",
     "text": [
      "iteration   1: log likelihood of observed labels = -29140.90494121\n",
      "iteration   2: log likelihood of observed labels = -28928.71848005\n",
      "iteration   3: log likelihood of observed labels = -28725.05245713\n",
      "iteration   4: log likelihood of observed labels = -28529.28381570\n",
      "iteration   5: log likelihood of observed labels = -28340.89899298\n",
      "iteration   6: log likelihood of observed labels = -28159.45740073\n",
      "iteration   7: log likelihood of observed labels = -27984.56959298\n",
      "iteration   8: log likelihood of observed labels = -27815.88382176\n",
      "iteration   9: log likelihood of observed labels = -27653.07759417\n",
      "iteration  10: log likelihood of observed labels = -27495.85227091\n",
      "iteration  11: log likelihood of observed labels = -27343.92951289\n",
      "iteration  12: log likelihood of observed labels = -27197.04884240\n",
      "iteration  13: log likelihood of observed labels = -27054.96587260\n",
      "iteration  14: log likelihood of observed labels = -26917.45094013\n",
      "iteration  15: log likelihood of observed labels = -26784.28798544\n",
      "iteration  20: log likelihood of observed labels = -26177.03003037\n",
      "iteration  30: log likelihood of observed labels = -25194.64738630\n",
      "iteration  40: log likelihood of observed labels = -24432.36394012\n",
      "iteration  50: log likelihood of observed labels = -23821.51963095\n",
      "iteration  60: log likelihood of observed labels = -23319.40842335\n",
      "iteration  70: log likelihood of observed labels = -22898.16770801\n",
      "iteration  80: log likelihood of observed labels = -22538.85212024\n",
      "iteration  90: log likelihood of observed labels = -22228.11794336\n",
      "iteration 100: log likelihood of observed labels = -21956.28104292\n",
      "iteration 200: log likelihood of observed labels = -20365.67720781\n",
      "iteration 300: log likelihood of observed labels = -19626.92879024\n",
      "iteration 400: log likelihood of observed labels = -19193.96964396\n",
      "iteration 500: log likelihood of observed labels = -18909.22127935\n"
     ]
    },
    {
     "data": {
      "text/plain": [
       "array([ -1.54248998e-01,   5.87381638e-02,   1.23174611e-02,\n",
       "         8.94059639e-01,   1.15237861e+00,  -5.92440543e-03,\n",
       "        -2.59252191e-01,   1.46509738e-02,   1.04113864e+00,\n",
       "         5.05920469e-01,  -9.78467331e-02,   1.95219878e-01,\n",
       "         4.18893562e-01,  -1.92675682e-01,  -2.19140933e-03,\n",
       "        -1.61404879e-02,   1.30571337e-01,  -6.00728374e-02,\n",
       "        -1.14049266e-01,  -2.74781372e-01,   2.11086343e-01,\n",
       "         2.61129450e-01,   3.21675927e-03,   1.07957816e+00,\n",
       "        -4.50488405e-02,  -6.71808929e-03,  -6.31475054e-02,\n",
       "         1.99840593e-01,   1.92547420e-01,  -2.70345392e-01,\n",
       "         1.11716265e-01,   3.75930156e-01,  -8.71179895e-02,\n",
       "        -3.57970605e-01,   8.98095274e-01,   4.67661637e-01,\n",
       "        -6.94152148e-03,  -1.06736455e-01,   5.91292951e-02,\n",
       "        -8.56172046e-02,  -1.30103927e-01,   1.14227997e-01,\n",
       "         3.39589145e-02,   4.04236061e-02,  -1.95905901e-01,\n",
       "         2.02391532e-01,   6.64741674e-02,  -1.70396722e-01,\n",
       "         3.67914081e-01,   9.03001149e-02,  -3.00276135e-01,\n",
       "         2.50529843e-01,   3.96807235e-01,  -9.29207108e-02,\n",
       "        -4.34565646e-02,   1.49820932e-01,   1.64960954e-01,\n",
       "        -1.43582691e-01,   2.25075256e-01,   7.02309726e-02,\n",
       "        -1.13473185e-03,  -1.41801481e-02,   1.40743711e-01,\n",
       "         1.29158536e-01,   1.15153905e-01,   1.07509740e-01,\n",
       "         1.12580266e-01,  -3.32754129e-01,  -8.71539365e-02,\n",
       "        -1.68117983e-01,  -2.00946691e-01,   2.55785716e-01,\n",
       "         1.74323901e-01,  -1.15335556e-02,   1.25748556e-01,\n",
       "         1.05544454e-01,   5.94153922e-01,   6.76532359e-02,\n",
       "        -5.16351727e-01,  -5.86958194e-02,  -9.85698186e-02,\n",
       "         2.37947342e-01,   1.84484089e-02,   5.64570961e-01,\n",
       "         3.41794692e-01,  -6.43972623e-02,   1.47680078e-01,\n",
       "         1.66734709e-01,   3.39914661e-01,   2.00822235e-01,\n",
       "         1.03601685e-01,   5.31699730e-01,  -4.98815312e-02,\n",
       "         7.82816349e-02,  -1.49739904e-01,   1.74383251e-01,\n",
       "         7.92464551e-02,  -7.55251956e-01,  -1.65965558e-01,\n",
       "        -3.03412547e-01,  -4.89561900e-01,  -2.28443806e-01,\n",
       "        -2.96605743e-01,  -3.03216229e-01,  -2.84491767e-01,\n",
       "        -4.54946335e-01,  -9.65155428e-01,  -2.42782768e-01,\n",
       "        -2.76092480e-01,  -1.84492193e-01,   5.76282398e-02,\n",
       "        -2.20499791e-02,  -2.23351331e-01,  -6.60899411e-01,\n",
       "        -7.18148270e-01,  -1.81241699e-01,  -6.19663163e-02,\n",
       "        -8.82802502e-02,  -4.81186316e-02,  -5.36028956e-02,\n",
       "         5.71673325e-03,  -7.70975596e-02,  -1.91529331e-01,\n",
       "        -2.78224808e-01,   5.27745802e-02,  -1.46598563e-01,\n",
       "        -8.08385440e-02,   1.19881170e-02,  -6.60261324e-02,\n",
       "         1.70667450e-02,  -2.30370650e-01,  -1.69768235e-01,\n",
       "        -2.19523281e-01,  -8.54811055e-02,  -4.59118545e-01,\n",
       "        -1.87335952e-01,   7.70985133e-04,  -1.07639481e-01,\n",
       "        -6.62078119e-02,  -8.36824314e-02,  -3.67210876e-01,\n",
       "        -1.20124366e-01,   8.99923692e-02,   7.89213206e-02,\n",
       "        -2.57570411e-02,   1.08048923e-01,  -2.74227698e-01,\n",
       "         1.61050561e-02,  -1.44931513e-01,  -4.81457776e-02,\n",
       "        -8.59012074e-02,  -8.84623468e-02,  -4.81957389e-02,\n",
       "         6.78596147e-02,  -8.81710894e-02,   3.47998399e-03,\n",
       "        -2.40375678e-01,  -2.42341570e-01,   2.80014196e-02,\n",
       "        -2.44521584e-01,  -3.58849436e-01,  -1.10175806e-01,\n",
       "         1.65959579e-01,  -1.65231802e-02,  -1.32672747e-01,\n",
       "        -1.77074566e-01,  -1.03149009e-01,  -2.68616150e-01,\n",
       "        -2.27010290e-02,  -5.94790218e-01,  -3.55805151e-01,\n",
       "        -4.58276064e-02,  -5.48934720e-01,   1.06932366e-02,\n",
       "        -3.07524376e-01,  -1.90584836e-01,  -4.92887751e-01,\n",
       "        -1.05200590e-01,  -9.58706823e-02,  -1.32575255e-01,\n",
       "        -9.71150872e-02,  -3.08825611e-01,   1.48194656e-03,\n",
       "        -2.00758085e-01,   6.81367289e-02,  -1.99165035e-01,\n",
       "        -2.85193420e-01,   1.63213520e-01,  -1.19766628e-01,\n",
       "         3.31829619e-02,   4.52671359e-03,  -1.59937746e-01,\n",
       "        -5.32473083e-02,  -2.18020828e-01])"
      ]
     },
     "execution_count": 22,
     "metadata": {},
     "output_type": "execute_result"
    }
   ],
   "source": [
    "coefficients0 = logistic_regression_withL2(fm, st, initial_coeffs, step_size, max_iter, 0)\n",
    "coefficients0"
   ]
  },
  {
   "cell_type": "code",
   "execution_count": 23,
   "metadata": {},
   "outputs": [
    {
     "name": "stdout",
     "output_type": "stream",
     "text": [
      "iteration   1: log likelihood of observed labels = -29140.90941977\n",
      "iteration   2: log likelihood of observed labels = -28928.74458068\n",
      "iteration   3: log likelihood of observed labels = -28725.11591598\n",
      "iteration   4: log likelihood of observed labels = -28529.39913058\n",
      "iteration   5: log likelihood of observed labels = -28341.07954921\n",
      "iteration   6: log likelihood of observed labels = -28159.71557184\n",
      "iteration   7: log likelihood of observed labels = -27984.91682598\n",
      "iteration   8: log likelihood of observed labels = -27816.33071233\n",
      "iteration   9: log likelihood of observed labels = -27653.63395455\n",
      "iteration  10: log likelihood of observed labels = -27496.52719189\n",
      "iteration  11: log likelihood of observed labels = -27344.73142075\n",
      "iteration  12: log likelihood of observed labels = -27197.98555108\n",
      "iteration  13: log likelihood of observed labels = -27056.04463167\n",
      "iteration  14: log likelihood of observed labels = -26918.67847871\n",
      "iteration  15: log likelihood of observed labels = -26785.67055243\n",
      "iteration  20: log likelihood of observed labels = -26179.26707495\n",
      "iteration  30: log likelihood of observed labels = -25198.86900889\n",
      "iteration  40: log likelihood of observed labels = -24438.77593666\n",
      "iteration  50: log likelihood of observed labels = -23830.21856505\n",
      "iteration  60: log likelihood of observed labels = -23330.43199680\n",
      "iteration  70: log likelihood of observed labels = -22911.52031529\n",
      "iteration  80: log likelihood of observed labels = -22554.51869233\n",
      "iteration  90: log likelihood of observed labels = -22246.07184944\n",
      "iteration 100: log likelihood of observed labels = -21976.48879125\n",
      "iteration 200: log likelihood of observed labels = -20406.25803469\n",
      "iteration 300: log likelihood of observed labels = -19684.39184599\n",
      "iteration 400: log likelihood of observed labels = -19265.70405571\n",
      "iteration 500: log likelihood of observed labels = -18993.23588373\n",
      "iteration   1: log likelihood of observed labels = -29140.91613760\n",
      "iteration   2: log likelihood of observed labels = -28928.78372898\n",
      "iteration   3: log likelihood of observed labels = -28725.21109145\n",
      "iteration   4: log likelihood of observed labels = -28529.57206815\n",
      "iteration   5: log likelihood of observed labels = -28341.35031126\n",
      "iteration   6: log likelihood of observed labels = -28160.10269970\n",
      "iteration   7: log likelihood of observed labels = -27985.43746826\n",
      "iteration   8: log likelihood of observed labels = -27817.00073797\n",
      "iteration   9: log likelihood of observed labels = -27654.46805502\n",
      "iteration  10: log likelihood of observed labels = -27497.53897444\n",
      "iteration  11: log likelihood of observed labels = -27345.93349398\n",
      "iteration  12: log likelihood of observed labels = -27199.38960353\n",
      "iteration  13: log likelihood of observed labels = -27057.66150387\n",
      "iteration  14: log likelihood of observed labels = -26920.51822925\n",
      "iteration  15: log likelihood of observed labels = -26787.74251843\n",
      "iteration  20: log likelihood of observed labels = -26182.61854778\n",
      "iteration  30: log likelihood of observed labels = -25205.18984881\n",
      "iteration  40: log likelihood of observed labels = -24448.37055146\n",
      "iteration  50: log likelihood of observed labels = -23843.22751537\n",
      "iteration  60: log likelihood of observed labels = -23346.90765844\n",
      "iteration  70: log likelihood of observed labels = -22931.46525187\n",
      "iteration  80: log likelihood of observed labels = -22577.90643453\n",
      "iteration  90: log likelihood of observed labels = -22272.85874924\n",
      "iteration 100: log likelihood of observed labels = -22006.62106923\n",
      "iteration 200: log likelihood of observed labels = -20466.43137897\n",
      "iteration 300: log likelihood of observed labels = -19769.14233410\n",
      "iteration 400: log likelihood of observed labels = -19370.95858044\n",
      "iteration 500: log likelihood of observed labels = -19115.89801599\n",
      "iteration   1: log likelihood of observed labels = -29141.01690508\n",
      "iteration   2: log likelihood of observed labels = -28929.37057300\n",
      "iteration   3: log likelihood of observed labels = -28726.63688200\n",
      "iteration   4: log likelihood of observed labels = -28532.16113328\n",
      "iteration   5: log likelihood of observed labels = -28345.40134870\n",
      "iteration   6: log likelihood of observed labels = -28165.89111219\n",
      "iteration   7: log likelihood of observed labels = -27993.21734407\n",
      "iteration   8: log likelihood of observed labels = -27827.00659745\n",
      "iteration   9: log likelihood of observed labels = -27666.91642665\n",
      "iteration  10: log likelihood of observed labels = -27512.62983323\n",
      "iteration  11: log likelihood of observed labels = -27363.85157973\n",
      "iteration  12: log likelihood of observed labels = -27220.30562992\n",
      "iteration  13: log likelihood of observed labels = -27081.73326666\n",
      "iteration  14: log likelihood of observed labels = -26947.89162121\n",
      "iteration  15: log likelihood of observed labels = -26818.55245807\n",
      "iteration  20: log likelihood of observed labels = -26232.30647265\n",
      "iteration  30: log likelihood of observed labels = -25298.35623098\n",
      "iteration  40: log likelihood of observed labels = -24588.98637143\n",
      "iteration  50: log likelihood of observed labels = -24032.81524647\n",
      "iteration  60: log likelihood of observed labels = -23585.69109571\n",
      "iteration  70: log likelihood of observed labels = -23218.95044155\n",
      "iteration  80: log likelihood of observed labels = -22913.19475940\n",
      "iteration  90: log likelihood of observed labels = -22654.82441268\n",
      "iteration 100: log likelihood of observed labels = -22434.01570309\n",
      "iteration 200: log likelihood of observed labels = -21278.04220191\n",
      "iteration 300: log likelihood of observed labels = -20861.14765393\n",
      "iteration 400: log likelihood of observed labels = -20671.90708352\n",
      "iteration 500: log likelihood of observed labels = -20575.71985588\n",
      "iteration   1: log likelihood of observed labels = -29142.02457994\n",
      "iteration   2: log likelihood of observed labels = -28935.19987524\n",
      "iteration   3: log likelihood of observed labels = -28740.70630357\n",
      "iteration   4: log likelihood of observed labels = -28557.54276881\n",
      "iteration   5: log likelihood of observed labels = -28384.85855556\n",
      "iteration   6: log likelihood of observed labels = -28221.90927434\n",
      "iteration   7: log likelihood of observed labels = -28068.03017515\n",
      "iteration   8: log likelihood of observed labels = -27922.61931933\n",
      "iteration   9: log likelihood of observed labels = -27785.12655200\n",
      "iteration  10: log likelihood of observed labels = -27655.04595729\n",
      "iteration  11: log likelihood of observed labels = -27531.91042798\n",
      "iteration  12: log likelihood of observed labels = -27415.28753610\n",
      "iteration  13: log likelihood of observed labels = -27304.77622378\n",
      "iteration  14: log likelihood of observed labels = -27200.00403261\n",
      "iteration  15: log likelihood of observed labels = -27100.62470632\n",
      "iteration  20: log likelihood of observed labels = -26674.08582227\n",
      "iteration  30: log likelihood of observed labels = -26081.70589421\n",
      "iteration  40: log likelihood of observed labels = -25710.54999332\n",
      "iteration  50: log likelihood of observed labels = -25471.26959827\n",
      "iteration  60: log likelihood of observed labels = -25313.50201145\n",
      "iteration  70: log likelihood of observed labels = -25207.58173383\n",
      "iteration  80: log likelihood of observed labels = -25135.40657972\n",
      "iteration  90: log likelihood of observed labels = -25085.61093086\n",
      "iteration 100: log likelihood of observed labels = -25050.89052944\n",
      "iteration 200: log likelihood of observed labels = -24967.64612410\n",
      "iteration 300: log likelihood of observed labels = -24963.88266919\n",
      "iteration 400: log likelihood of observed labels = -24963.65619412\n",
      "iteration 500: log likelihood of observed labels = -24963.64042068\n",
      "iteration   1: log likelihood of observed labels = -29252.86881371\n",
      "iteration   2: log likelihood of observed labels = -29252.71842149\n",
      "iteration   3: log likelihood of observed labels = -29252.67392265\n",
      "iteration   4: log likelihood of observed labels = -29252.63599729\n",
      "iteration   5: log likelihood of observed labels = -29252.60174397\n",
      "iteration   6: log likelihood of observed labels = -29252.57070577\n",
      "iteration   7: log likelihood of observed labels = -29252.54257580\n",
      "iteration   8: log likelihood of observed labels = -29252.51708131\n",
      "iteration   9: log likelihood of observed labels = -29252.49397536\n",
      "iteration  10: log likelihood of observed labels = -29252.47303417\n",
      "iteration  11: log likelihood of observed labels = -29252.45405492\n",
      "iteration  12: log likelihood of observed labels = -29252.43685382\n",
      "iteration  13: log likelihood of observed labels = -29252.42126426\n"
     ]
    },
    {
     "name": "stdout",
     "output_type": "stream",
     "text": [
      "iteration  14: log likelihood of observed labels = -29252.40713526\n",
      "iteration  15: log likelihood of observed labels = -29252.39432999\n",
      "iteration  20: log likelihood of observed labels = -29252.34620336\n",
      "iteration  30: log likelihood of observed labels = -29252.29877908\n",
      "iteration  40: log likelihood of observed labels = -29252.28104624\n",
      "iteration  50: log likelihood of observed labels = -29252.27441559\n",
      "iteration  60: log likelihood of observed labels = -29252.27193625\n",
      "iteration  70: log likelihood of observed labels = -29252.27100917\n",
      "iteration  80: log likelihood of observed labels = -29252.27066252\n",
      "iteration  90: log likelihood of observed labels = -29252.27053290\n",
      "iteration 100: log likelihood of observed labels = -29252.27048443\n",
      "iteration 200: log likelihood of observed labels = -29252.27045548\n",
      "iteration 300: log likelihood of observed labels = -29252.27045548\n",
      "iteration 400: log likelihood of observed labels = -29252.27045548\n",
      "iteration 500: log likelihood of observed labels = -29252.27045548\n"
     ]
    }
   ],
   "source": [
    "coefficients1 = logistic_regression_withL2(fm, st, initial_coeffs, step_size, max_iter, 4)\n",
    "coefficients2 = logistic_regression_withL2(fm, st, initial_coeffs, step_size, max_iter, 10)\n",
    "coefficients3 = logistic_regression_withL2(fm, st, initial_coeffs, step_size, max_iter, 1e2)\n",
    "coefficients4 = logistic_regression_withL2(fm, st, initial_coeffs, step_size, max_iter, 1e3)\n",
    "coefficients5 = logistic_regression_withL2(fm, st, initial_coeffs, step_size, max_iter, 1e5)"
   ]
  },
  {
   "cell_type": "code",
   "execution_count": 27,
   "metadata": {
    "collapsed": true
   },
   "outputs": [],
   "source": [
    "features = [\"constant\"] + important_words"
   ]
  },
  {
   "cell_type": "code",
   "execution_count": 30,
   "metadata": {
    "collapsed": true
   },
   "outputs": [],
   "source": [
    "coefs = pd.DataFrame([coefficients0, coefficients1, coefficients2, coefficients3, coefficients4, coefficients5],\n",
    "                    columns = features, index = [0,4,10,1e2,1e3,1e5])"
   ]
  },
  {
   "cell_type": "code",
   "execution_count": 31,
   "metadata": {},
   "outputs": [
    {
     "data": {
      "text/html": [
       "<div>\n",
       "<style>\n",
       "    .dataframe thead tr:only-child th {\n",
       "        text-align: right;\n",
       "    }\n",
       "\n",
       "    .dataframe thead th {\n",
       "        text-align: left;\n",
       "    }\n",
       "\n",
       "    .dataframe tbody tr th {\n",
       "        vertical-align: top;\n",
       "    }\n",
       "</style>\n",
       "<table border=\"1\" class=\"dataframe\">\n",
       "  <thead>\n",
       "    <tr style=\"text-align: right;\">\n",
       "      <th></th>\n",
       "      <th>constant</th>\n",
       "      <th>baby</th>\n",
       "      <th>one</th>\n",
       "      <th>great</th>\n",
       "      <th>love</th>\n",
       "      <th>use</th>\n",
       "      <th>would</th>\n",
       "      <th>like</th>\n",
       "      <th>easy</th>\n",
       "      <th>little</th>\n",
       "      <th>...</th>\n",
       "      <th>seems</th>\n",
       "      <th>picture</th>\n",
       "      <th>completely</th>\n",
       "      <th>wish</th>\n",
       "      <th>buying</th>\n",
       "      <th>babies</th>\n",
       "      <th>won</th>\n",
       "      <th>tub</th>\n",
       "      <th>almost</th>\n",
       "      <th>either</th>\n",
       "    </tr>\n",
       "  </thead>\n",
       "  <tbody>\n",
       "    <tr>\n",
       "      <th>0.0</th>\n",
       "      <td>-0.154249</td>\n",
       "      <td>0.058738</td>\n",
       "      <td>0.012317</td>\n",
       "      <td>0.894060</td>\n",
       "      <td>1.152379</td>\n",
       "      <td>-0.005924</td>\n",
       "      <td>-0.259252</td>\n",
       "      <td>0.014651</td>\n",
       "      <td>1.041139</td>\n",
       "      <td>0.505920</td>\n",
       "      <td>...</td>\n",
       "      <td>0.068137</td>\n",
       "      <td>-0.199165</td>\n",
       "      <td>-0.285193</td>\n",
       "      <td>0.163214</td>\n",
       "      <td>-0.119767</td>\n",
       "      <td>0.033183</td>\n",
       "      <td>0.004527</td>\n",
       "      <td>-0.159938</td>\n",
       "      <td>-0.053247</td>\n",
       "      <td>-0.218021</td>\n",
       "    </tr>\n",
       "    <tr>\n",
       "      <th>4.0</th>\n",
       "      <td>-0.153241</td>\n",
       "      <td>0.058774</td>\n",
       "      <td>0.012052</td>\n",
       "      <td>0.888996</td>\n",
       "      <td>1.144351</td>\n",
       "      <td>-0.005635</td>\n",
       "      <td>-0.258379</td>\n",
       "      <td>0.014425</td>\n",
       "      <td>1.033850</td>\n",
       "      <td>0.502970</td>\n",
       "      <td>...</td>\n",
       "      <td>0.067621</td>\n",
       "      <td>-0.197507</td>\n",
       "      <td>-0.282709</td>\n",
       "      <td>0.161755</td>\n",
       "      <td>-0.118763</td>\n",
       "      <td>0.032978</td>\n",
       "      <td>0.004479</td>\n",
       "      <td>-0.158615</td>\n",
       "      <td>-0.052728</td>\n",
       "      <td>-0.216085</td>\n",
       "    </tr>\n",
       "    <tr>\n",
       "      <th>10.0</th>\n",
       "      <td>-0.151747</td>\n",
       "      <td>0.058826</td>\n",
       "      <td>0.011660</td>\n",
       "      <td>0.881543</td>\n",
       "      <td>1.132545</td>\n",
       "      <td>-0.005210</td>\n",
       "      <td>-0.257096</td>\n",
       "      <td>0.014090</td>\n",
       "      <td>1.023128</td>\n",
       "      <td>0.498627</td>\n",
       "      <td>...</td>\n",
       "      <td>0.066862</td>\n",
       "      <td>-0.195063</td>\n",
       "      <td>-0.279049</td>\n",
       "      <td>0.159605</td>\n",
       "      <td>-0.117285</td>\n",
       "      <td>0.032677</td>\n",
       "      <td>0.004408</td>\n",
       "      <td>-0.156669</td>\n",
       "      <td>-0.051962</td>\n",
       "      <td>-0.213231</td>\n",
       "    </tr>\n",
       "    <tr>\n",
       "      <th>100.0</th>\n",
       "      <td>-0.131852</td>\n",
       "      <td>0.059429</td>\n",
       "      <td>0.006670</td>\n",
       "      <td>0.786974</td>\n",
       "      <td>0.984137</td>\n",
       "      <td>0.000081</td>\n",
       "      <td>-0.240945</td>\n",
       "      <td>0.009800</td>\n",
       "      <td>0.888234</td>\n",
       "      <td>0.443734</td>\n",
       "      <td>...</td>\n",
       "      <td>0.057177</td>\n",
       "      <td>-0.163933</td>\n",
       "      <td>-0.232435</td>\n",
       "      <td>0.132081</td>\n",
       "      <td>-0.098449</td>\n",
       "      <td>0.028897</td>\n",
       "      <td>0.003515</td>\n",
       "      <td>-0.132130</td>\n",
       "      <td>-0.042145</td>\n",
       "      <td>-0.176839</td>\n",
       "    </tr>\n",
       "    <tr>\n",
       "      <th>1000.0</th>\n",
       "      <td>-0.046441</td>\n",
       "      <td>0.053699</td>\n",
       "      <td>-0.009397</td>\n",
       "      <td>0.437837</td>\n",
       "      <td>0.485906</td>\n",
       "      <td>0.013353</td>\n",
       "      <td>-0.174689</td>\n",
       "      <td>-0.002739</td>\n",
       "      <td>0.434566</td>\n",
       "      <td>0.243872</td>\n",
       "      <td>...</td>\n",
       "      <td>0.024012</td>\n",
       "      <td>-0.062258</td>\n",
       "      <td>-0.083223</td>\n",
       "      <td>0.042614</td>\n",
       "      <td>-0.037609</td>\n",
       "      <td>0.015262</td>\n",
       "      <td>0.001027</td>\n",
       "      <td>-0.053297</td>\n",
       "      <td>-0.011215</td>\n",
       "      <td>-0.060602</td>\n",
       "    </tr>\n",
       "    <tr>\n",
       "      <th>100000.0</th>\n",
       "      <td>0.010470</td>\n",
       "      <td>0.001721</td>\n",
       "      <td>-0.001980</td>\n",
       "      <td>0.011395</td>\n",
       "      <td>0.011689</td>\n",
       "      <td>0.000352</td>\n",
       "      <td>-0.007986</td>\n",
       "      <td>-0.000846</td>\n",
       "      <td>0.010102</td>\n",
       "      <td>0.005963</td>\n",
       "      <td>...</td>\n",
       "      <td>0.000322</td>\n",
       "      <td>-0.001201</td>\n",
       "      <td>-0.001486</td>\n",
       "      <td>0.000461</td>\n",
       "      <td>-0.000783</td>\n",
       "      <td>0.000261</td>\n",
       "      <td>0.000017</td>\n",
       "      <td>-0.000945</td>\n",
       "      <td>-0.000166</td>\n",
       "      <td>-0.001042</td>\n",
       "    </tr>\n",
       "  </tbody>\n",
       "</table>\n",
       "<p>6 rows × 194 columns</p>\n",
       "</div>"
      ],
      "text/plain": [
       "          constant      baby       one     great      love       use  \\\n",
       "0.0      -0.154249  0.058738  0.012317  0.894060  1.152379 -0.005924   \n",
       "4.0      -0.153241  0.058774  0.012052  0.888996  1.144351 -0.005635   \n",
       "10.0     -0.151747  0.058826  0.011660  0.881543  1.132545 -0.005210   \n",
       "100.0    -0.131852  0.059429  0.006670  0.786974  0.984137  0.000081   \n",
       "1000.0   -0.046441  0.053699 -0.009397  0.437837  0.485906  0.013353   \n",
       "100000.0  0.010470  0.001721 -0.001980  0.011395  0.011689  0.000352   \n",
       "\n",
       "             would      like      easy    little    ...        seems  \\\n",
       "0.0      -0.259252  0.014651  1.041139  0.505920    ...     0.068137   \n",
       "4.0      -0.258379  0.014425  1.033850  0.502970    ...     0.067621   \n",
       "10.0     -0.257096  0.014090  1.023128  0.498627    ...     0.066862   \n",
       "100.0    -0.240945  0.009800  0.888234  0.443734    ...     0.057177   \n",
       "1000.0   -0.174689 -0.002739  0.434566  0.243872    ...     0.024012   \n",
       "100000.0 -0.007986 -0.000846  0.010102  0.005963    ...     0.000322   \n",
       "\n",
       "           picture  completely      wish    buying    babies       won  \\\n",
       "0.0      -0.199165   -0.285193  0.163214 -0.119767  0.033183  0.004527   \n",
       "4.0      -0.197507   -0.282709  0.161755 -0.118763  0.032978  0.004479   \n",
       "10.0     -0.195063   -0.279049  0.159605 -0.117285  0.032677  0.004408   \n",
       "100.0    -0.163933   -0.232435  0.132081 -0.098449  0.028897  0.003515   \n",
       "1000.0   -0.062258   -0.083223  0.042614 -0.037609  0.015262  0.001027   \n",
       "100000.0 -0.001201   -0.001486  0.000461 -0.000783  0.000261  0.000017   \n",
       "\n",
       "               tub    almost    either  \n",
       "0.0      -0.159938 -0.053247 -0.218021  \n",
       "4.0      -0.158615 -0.052728 -0.216085  \n",
       "10.0     -0.156669 -0.051962 -0.213231  \n",
       "100.0    -0.132130 -0.042145 -0.176839  \n",
       "1000.0   -0.053297 -0.011215 -0.060602  \n",
       "100000.0 -0.000945 -0.000166 -0.001042  \n",
       "\n",
       "[6 rows x 194 columns]"
      ]
     },
     "execution_count": 31,
     "metadata": {},
     "output_type": "execute_result"
    }
   ],
   "source": [
    "coefs"
   ]
  },
  {
   "cell_type": "code",
   "execution_count": 32,
   "metadata": {
    "collapsed": true
   },
   "outputs": [],
   "source": [
    "five_pos_words = ['love', 'great', 'easy', 'loves', 'little']\n",
    "five_neg_words = ['return', 'waste', 'back', 'get', 'disappointed']"
   ]
  },
  {
   "cell_type": "code",
   "execution_count": 33,
   "metadata": {
    "collapsed": true
   },
   "outputs": [],
   "source": [
    "words = five_pos_words + five_neg_words"
   ]
  },
  {
   "cell_type": "code",
   "execution_count": 34,
   "metadata": {},
   "outputs": [],
   "source": [
    "coefs_10 = coefs[words]"
   ]
  },
  {
   "cell_type": "code",
   "execution_count": 35,
   "metadata": {},
   "outputs": [
    {
     "data": {
      "text/html": [
       "<div>\n",
       "<style>\n",
       "    .dataframe thead tr:only-child th {\n",
       "        text-align: right;\n",
       "    }\n",
       "\n",
       "    .dataframe thead th {\n",
       "        text-align: left;\n",
       "    }\n",
       "\n",
       "    .dataframe tbody tr th {\n",
       "        vertical-align: top;\n",
       "    }\n",
       "</style>\n",
       "<table border=\"1\" class=\"dataframe\">\n",
       "  <thead>\n",
       "    <tr style=\"text-align: right;\">\n",
       "      <th></th>\n",
       "      <th>love</th>\n",
       "      <th>great</th>\n",
       "      <th>easy</th>\n",
       "      <th>loves</th>\n",
       "      <th>little</th>\n",
       "      <th>return</th>\n",
       "      <th>waste</th>\n",
       "      <th>back</th>\n",
       "      <th>get</th>\n",
       "      <th>disappointed</th>\n",
       "    </tr>\n",
       "  </thead>\n",
       "  <tbody>\n",
       "    <tr>\n",
       "      <th>0.0</th>\n",
       "      <td>1.152379</td>\n",
       "      <td>0.894060</td>\n",
       "      <td>1.041139</td>\n",
       "      <td>1.079578</td>\n",
       "      <td>0.505920</td>\n",
       "      <td>-0.718148</td>\n",
       "      <td>-0.660899</td>\n",
       "      <td>-0.270345</td>\n",
       "      <td>-0.192676</td>\n",
       "      <td>-0.965155</td>\n",
       "    </tr>\n",
       "    <tr>\n",
       "      <th>4.0</th>\n",
       "      <td>1.144351</td>\n",
       "      <td>0.888996</td>\n",
       "      <td>1.033850</td>\n",
       "      <td>1.070813</td>\n",
       "      <td>0.502970</td>\n",
       "      <td>-0.711740</td>\n",
       "      <td>-0.655177</td>\n",
       "      <td>-0.268774</td>\n",
       "      <td>-0.191972</td>\n",
       "      <td>-0.956588</td>\n",
       "    </tr>\n",
       "    <tr>\n",
       "      <th>10.0</th>\n",
       "      <td>1.132545</td>\n",
       "      <td>0.881543</td>\n",
       "      <td>1.023128</td>\n",
       "      <td>1.057906</td>\n",
       "      <td>0.498627</td>\n",
       "      <td>-0.702302</td>\n",
       "      <td>-0.646755</td>\n",
       "      <td>-0.266464</td>\n",
       "      <td>-0.190936</td>\n",
       "      <td>-0.943967</td>\n",
       "    </tr>\n",
       "    <tr>\n",
       "      <th>100.0</th>\n",
       "      <td>0.984137</td>\n",
       "      <td>0.786974</td>\n",
       "      <td>0.888234</td>\n",
       "      <td>0.894179</td>\n",
       "      <td>0.443734</td>\n",
       "      <td>-0.582604</td>\n",
       "      <td>-0.540351</td>\n",
       "      <td>-0.237423</td>\n",
       "      <td>-0.177819</td>\n",
       "      <td>-0.783307</td>\n",
       "    </tr>\n",
       "    <tr>\n",
       "      <th>1000.0</th>\n",
       "      <td>0.485906</td>\n",
       "      <td>0.437837</td>\n",
       "      <td>0.434566</td>\n",
       "      <td>0.359548</td>\n",
       "      <td>0.243872</td>\n",
       "      <td>-0.209110</td>\n",
       "      <td>-0.206189</td>\n",
       "      <td>-0.134480</td>\n",
       "      <td>-0.121756</td>\n",
       "      <td>-0.271392</td>\n",
       "    </tr>\n",
       "    <tr>\n",
       "      <th>100000.0</th>\n",
       "      <td>0.011689</td>\n",
       "      <td>0.011395</td>\n",
       "      <td>0.010102</td>\n",
       "      <td>0.006587</td>\n",
       "      <td>0.005963</td>\n",
       "      <td>-0.003766</td>\n",
       "      <td>-0.003745</td>\n",
       "      <td>-0.004062</td>\n",
       "      <td>-0.004667</td>\n",
       "      <td>-0.004223</td>\n",
       "    </tr>\n",
       "  </tbody>\n",
       "</table>\n",
       "</div>"
      ],
      "text/plain": [
       "              love     great      easy     loves    little    return  \\\n",
       "0.0       1.152379  0.894060  1.041139  1.079578  0.505920 -0.718148   \n",
       "4.0       1.144351  0.888996  1.033850  1.070813  0.502970 -0.711740   \n",
       "10.0      1.132545  0.881543  1.023128  1.057906  0.498627 -0.702302   \n",
       "100.0     0.984137  0.786974  0.888234  0.894179  0.443734 -0.582604   \n",
       "1000.0    0.485906  0.437837  0.434566  0.359548  0.243872 -0.209110   \n",
       "100000.0  0.011689  0.011395  0.010102  0.006587  0.005963 -0.003766   \n",
       "\n",
       "             waste      back       get  disappointed  \n",
       "0.0      -0.660899 -0.270345 -0.192676     -0.965155  \n",
       "4.0      -0.655177 -0.268774 -0.191972     -0.956588  \n",
       "10.0     -0.646755 -0.266464 -0.190936     -0.943967  \n",
       "100.0    -0.540351 -0.237423 -0.177819     -0.783307  \n",
       "1000.0   -0.206189 -0.134480 -0.121756     -0.271392  \n",
       "100000.0 -0.003745 -0.004062 -0.004667     -0.004223  "
      ]
     },
     "execution_count": 35,
     "metadata": {},
     "output_type": "execute_result"
    }
   ],
   "source": [
    "coefs_10"
   ]
  },
  {
   "cell_type": "code",
   "execution_count": 36,
   "metadata": {
    "collapsed": true
   },
   "outputs": [],
   "source": [
    "import matplotlib.pyplot as plt\n",
    "%matplotlib inline\n",
    "plt.rcParams['figure.figsize'] = 10, 6"
   ]
  },
  {
   "cell_type": "code",
   "execution_count": 38,
   "metadata": {},
   "outputs": [
    {
     "data": {
      "image/png": "[encoded data removed]",
      "text/plain": [
       "<matplotlib.figure.Figure at 0xce10da0>"
      ]
     },
     "metadata": {},
     "output_type": "display_data"
    }
   ],
   "source": [
    "plt.plot( coefs_10.index, coefs_10)\n",
    "plt.xscale('log')"
   ]
  },
  {
   "cell_type": "code",
   "execution_count": 39,
   "metadata": {
    "collapsed": true
   },
   "outputs": [],
   "source": [
    "def class_pred(feature_matrix, coefficients):\n",
    "    score = np.dot(feature_matrix,coefficients)\n",
    "    \n",
    "    class_pred = 2*(score >= 0) - 1\n",
    "    \n",
    "    return class_pred"
   ]
  },
  {
   "cell_type": "markdown",
   "metadata": {},
   "source": [
    "15)"
   ]
  },
  {
   "cell_type": "code",
   "execution_count": 44,
   "metadata": {
    "collapsed": true
   },
   "outputs": [],
   "source": [
    "def measure_accuracy(coeffictients):\n",
    "    \n",
    "    train_class = class_pred(feature_matrix_train, coeffictients)\n",
    "    valid_class = class_pred(feature_matrix_valid, coeffictients)\n",
    "    \n",
    "    acc_train = round(np.sum(1 * (train_class == sentiment_train)) / len(train_class),2)\n",
    "    acc_valid = round(np.sum(1 * (valid_class == sentiment_valid)) / len(valid_class),2)\n",
    "    \n",
    "    print(acc_train, acc_valid)"
   ]
  },
  {
   "cell_type": "code",
   "execution_count": 46,
   "metadata": {},
   "outputs": [
    {
     "name": "stdout",
     "output_type": "stream",
     "text": [
      "0.8 0.8\n",
      "0.8 0.8\n",
      "0.8 0.79\n",
      "0.79 0.79\n",
      "0.7 0.69\n"
     ]
    }
   ],
   "source": [
    "measure_accuracy(coefficients1)\n",
    "measure_accuracy(coefficients2)\n",
    "measure_accuracy(coefficients3)\n",
    "measure_accuracy(coefficients4)\n",
    "measure_accuracy(coefficients5)"
   ]
  },
  {
   "cell_type": "code",
   "execution_count": 47,
   "metadata": {},
   "outputs": [
    {
     "name": "stdout",
     "output_type": "stream",
     "text": [
      "0\n",
      "1\n",
      "2\n",
      "3\n",
      "4\n",
      "5\n",
      "6\n",
      "7\n",
      "8\n",
      "9\n"
     ]
    }
   ],
   "source": [
    "for i in range(10):\n",
    "    print(i)"
   ]
  }
 ],
 "metadata": {
  "kernelspec": {
   "display_name": "Python 3",
   "language": "python",
   "name": "python3"
  },
  "language_info": {
   "codemirror_mode": {
    "name": "ipython",
    "version": 3
   },
   "file_extension": ".py",
   "mimetype": "text/x-python",
   "name": "python",
   "nbconvert_exporter": "python",
   "pygments_lexer": "ipython3",
   "version": "3.6.1"
  }
 },
 "nbformat": 4,
 "nbformat_minor": 2
}
